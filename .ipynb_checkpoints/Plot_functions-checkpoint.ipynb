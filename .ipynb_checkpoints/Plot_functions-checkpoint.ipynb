{
 "cells": [
  {
   "cell_type": "code",
   "execution_count": 46,
   "id": "8c7736a9-89f5-4e16-9c0a-64623a34684d",
   "metadata": {},
   "outputs": [],
   "source": [
    "import pandas as pd"
   ]
  },
  {
   "cell_type": "code",
   "execution_count": 47,
   "id": "d6927b27-b6fa-46c2-b2a6-4e0316a243d0",
   "metadata": {},
   "outputs": [],
   "source": [
    "df = pd.read_csv('view360_sub.csv')"
   ]
  },
  {
   "cell_type": "code",
   "execution_count": 48,
   "id": "deda3d50-3c99-4fb9-b6e6-e48bcc4a8ee8",
   "metadata": {},
   "outputs": [
    {
     "data": {
      "text/html": [
       "<div>\n",
       "<style scoped>\n",
       "    .dataframe tbody tr th:only-of-type {\n",
       "        vertical-align: middle;\n",
       "    }\n",
       "\n",
       "    .dataframe tbody tr th {\n",
       "        vertical-align: top;\n",
       "    }\n",
       "\n",
       "    .dataframe thead th {\n",
       "        text-align: right;\n",
       "    }\n",
       "</style>\n",
       "<table border=\"1\" class=\"dataframe\">\n",
       "  <thead>\n",
       "    <tr style=\"text-align: right;\">\n",
       "      <th></th>\n",
       "      <th>msisdn</th>\n",
       "      <th>bank_name</th>\n",
       "      <th>num_of_inflow</th>\n",
       "      <th>num_of_outflow</th>\n",
       "      <th>vol_of_inflow</th>\n",
       "      <th>vol_of_outflow</th>\n",
       "      <th>balance</th>\n",
       "      <th>timestamp</th>\n",
       "    </tr>\n",
       "  </thead>\n",
       "  <tbody>\n",
       "    <tr>\n",
       "      <th>0</th>\n",
       "      <td>0007e2225038168c4ef68de685a3084a</td>\n",
       "      <td>ZENITHBANK</td>\n",
       "      <td>1</td>\n",
       "      <td>1</td>\n",
       "      <td>3400</td>\n",
       "      <td>16000</td>\n",
       "      <td>46.0</td>\n",
       "      <td>2022-04-10 20:34:43</td>\n",
       "    </tr>\n",
       "    <tr>\n",
       "      <th>1</th>\n",
       "      <td>000b25c8e43c43ae9f6254dbc8526092</td>\n",
       "      <td>FirstBank</td>\n",
       "      <td>1</td>\n",
       "      <td>1</td>\n",
       "      <td>6000</td>\n",
       "      <td>23000</td>\n",
       "      <td>176153.0</td>\n",
       "      <td>2022-04-04 09:28:40</td>\n",
       "    </tr>\n",
       "    <tr>\n",
       "      <th>2</th>\n",
       "      <td>00264fec33e28373de984c7d8f4682cb</td>\n",
       "      <td>FirstBank</td>\n",
       "      <td>1</td>\n",
       "      <td>1</td>\n",
       "      <td>100000</td>\n",
       "      <td>350000</td>\n",
       "      <td>2831.0</td>\n",
       "      <td>2022-04-17 19:46:22</td>\n",
       "    </tr>\n",
       "    <tr>\n",
       "      <th>3</th>\n",
       "      <td>00264fec33e28373de984c7d8f4682cb</td>\n",
       "      <td>FirstBank</td>\n",
       "      <td>1</td>\n",
       "      <td>2</td>\n",
       "      <td>20000</td>\n",
       "      <td>400</td>\n",
       "      <td>171.0</td>\n",
       "      <td>2022-04-12 17:49:53</td>\n",
       "    </tr>\n",
       "    <tr>\n",
       "      <th>4</th>\n",
       "      <td>00264fec33e28373de984c7d8f4682cb</td>\n",
       "      <td>FirstBank</td>\n",
       "      <td>1</td>\n",
       "      <td>1</td>\n",
       "      <td>63406</td>\n",
       "      <td>2000</td>\n",
       "      <td>3421.0</td>\n",
       "      <td>2022-04-08 12:46:44</td>\n",
       "    </tr>\n",
       "  </tbody>\n",
       "</table>\n",
       "</div>"
      ],
      "text/plain": [
       "                             msisdn   bank_name  num_of_inflow  \\\n",
       "0  0007e2225038168c4ef68de685a3084a  ZENITHBANK              1   \n",
       "1  000b25c8e43c43ae9f6254dbc8526092   FirstBank              1   \n",
       "2  00264fec33e28373de984c7d8f4682cb   FirstBank              1   \n",
       "3  00264fec33e28373de984c7d8f4682cb   FirstBank              1   \n",
       "4  00264fec33e28373de984c7d8f4682cb   FirstBank              1   \n",
       "\n",
       "   num_of_outflow  vol_of_inflow  vol_of_outflow   balance  \\\n",
       "0               1           3400           16000      46.0   \n",
       "1               1           6000           23000  176153.0   \n",
       "2               1         100000          350000    2831.0   \n",
       "3               2          20000             400     171.0   \n",
       "4               1          63406            2000    3421.0   \n",
       "\n",
       "             timestamp  \n",
       "0  2022-04-10 20:34:43  \n",
       "1  2022-04-04 09:28:40  \n",
       "2  2022-04-17 19:46:22  \n",
       "3  2022-04-12 17:49:53  \n",
       "4  2022-04-08 12:46:44  "
      ]
     },
     "execution_count": 48,
     "metadata": {},
     "output_type": "execute_result"
    }
   ],
   "source": [
    "df.head()"
   ]
  },
  {
   "cell_type": "code",
   "execution_count": 49,
   "id": "cc4581bf-8f10-4890-89dd-ff1a9d0c39be",
   "metadata": {},
   "outputs": [
    {
     "name": "stdout",
     "output_type": "stream",
     "text": [
      "<class 'pandas.core.frame.DataFrame'>\n",
      "RangeIndex: 1000000 entries, 0 to 999999\n",
      "Data columns (total 8 columns):\n",
      " #   Column          Non-Null Count    Dtype  \n",
      "---  ------          --------------    -----  \n",
      " 0   msisdn          1000000 non-null  object \n",
      " 1   bank_name       1000000 non-null  object \n",
      " 2   num_of_inflow   1000000 non-null  int64  \n",
      " 3   num_of_outflow  1000000 non-null  int64  \n",
      " 4   vol_of_inflow   1000000 non-null  int64  \n",
      " 5   vol_of_outflow  1000000 non-null  int64  \n",
      " 6   balance         948810 non-null   float64\n",
      " 7   timestamp       1000000 non-null  object \n",
      "dtypes: float64(1), int64(4), object(3)\n",
      "memory usage: 61.0+ MB\n"
     ]
    }
   ],
   "source": [
    "df.info()"
   ]
  },
  {
   "cell_type": "code",
   "execution_count": 50,
   "id": "913e5936-2497-4866-b91f-bf0b8408d627",
   "metadata": {},
   "outputs": [],
   "source": [
    "index = df[df['balance'].isnull()].index"
   ]
  },
  {
   "cell_type": "code",
   "execution_count": 51,
   "id": "aba4196b-d8e8-46e8-af12-4619825fbdd6",
   "metadata": {},
   "outputs": [],
   "source": [
    "df = df.drop(index=index)"
   ]
  },
  {
   "cell_type": "code",
   "execution_count": 52,
   "id": "d3e06129-4d84-4dd0-a94f-b6b3810faf58",
   "metadata": {},
   "outputs": [
    {
     "name": "stdout",
     "output_type": "stream",
     "text": [
      "<class 'pandas.core.frame.DataFrame'>\n",
      "Int64Index: 948810 entries, 0 to 999999\n",
      "Data columns (total 8 columns):\n",
      " #   Column          Non-Null Count   Dtype  \n",
      "---  ------          --------------   -----  \n",
      " 0   msisdn          948810 non-null  object \n",
      " 1   bank_name       948810 non-null  object \n",
      " 2   num_of_inflow   948810 non-null  int64  \n",
      " 3   num_of_outflow  948810 non-null  int64  \n",
      " 4   vol_of_inflow   948810 non-null  int64  \n",
      " 5   vol_of_outflow  948810 non-null  int64  \n",
      " 6   balance         948810 non-null  float64\n",
      " 7   timestamp       948810 non-null  object \n",
      "dtypes: float64(1), int64(4), object(3)\n",
      "memory usage: 65.1+ MB\n"
     ]
    }
   ],
   "source": [
    "df.info()"
   ]
  },
  {
   "cell_type": "code",
   "execution_count": 53,
   "id": "885940b3-e397-4aa4-b3ee-7b1d477ac63b",
   "metadata": {},
   "outputs": [],
   "source": [
    "df['date'] = df['timestamp'].astype(str)"
   ]
  },
  {
   "cell_type": "code",
   "execution_count": 54,
   "id": "dfaf3eca-3746-4aba-bd5c-93f3a88f432a",
   "metadata": {},
   "outputs": [
    {
     "name": "stdout",
     "output_type": "stream",
     "text": [
      "<class 'pandas.core.frame.DataFrame'>\n",
      "Int64Index: 948810 entries, 0 to 999999\n",
      "Data columns (total 9 columns):\n",
      " #   Column          Non-Null Count   Dtype  \n",
      "---  ------          --------------   -----  \n",
      " 0   msisdn          948810 non-null  object \n",
      " 1   bank_name       948810 non-null  object \n",
      " 2   num_of_inflow   948810 non-null  int64  \n",
      " 3   num_of_outflow  948810 non-null  int64  \n",
      " 4   vol_of_inflow   948810 non-null  int64  \n",
      " 5   vol_of_outflow  948810 non-null  int64  \n",
      " 6   balance         948810 non-null  float64\n",
      " 7   timestamp       948810 non-null  object \n",
      " 8   date            948810 non-null  object \n",
      "dtypes: float64(1), int64(4), object(4)\n",
      "memory usage: 72.4+ MB\n"
     ]
    }
   ],
   "source": [
    "df.info()"
   ]
  },
  {
   "cell_type": "code",
   "execution_count": 55,
   "id": "b9a065c2-ea3f-4291-a7b8-6dd415d6978c",
   "metadata": {},
   "outputs": [
    {
     "data": {
      "text/html": [
       "<div>\n",
       "<style scoped>\n",
       "    .dataframe tbody tr th:only-of-type {\n",
       "        vertical-align: middle;\n",
       "    }\n",
       "\n",
       "    .dataframe tbody tr th {\n",
       "        vertical-align: top;\n",
       "    }\n",
       "\n",
       "    .dataframe thead th {\n",
       "        text-align: right;\n",
       "    }\n",
       "</style>\n",
       "<table border=\"1\" class=\"dataframe\">\n",
       "  <thead>\n",
       "    <tr style=\"text-align: right;\">\n",
       "      <th></th>\n",
       "      <th>msisdn</th>\n",
       "      <th>bank_name</th>\n",
       "      <th>num_of_inflow</th>\n",
       "      <th>num_of_outflow</th>\n",
       "      <th>vol_of_inflow</th>\n",
       "      <th>vol_of_outflow</th>\n",
       "      <th>balance</th>\n",
       "      <th>timestamp</th>\n",
       "      <th>date</th>\n",
       "    </tr>\n",
       "  </thead>\n",
       "  <tbody>\n",
       "    <tr>\n",
       "      <th>0</th>\n",
       "      <td>0007e2225038168c4ef68de685a3084a</td>\n",
       "      <td>ZENITHBANK</td>\n",
       "      <td>1</td>\n",
       "      <td>1</td>\n",
       "      <td>3400</td>\n",
       "      <td>16000</td>\n",
       "      <td>46.0</td>\n",
       "      <td>2022-04-10 20:34:43</td>\n",
       "      <td>2022-04-10 20:34:43</td>\n",
       "    </tr>\n",
       "    <tr>\n",
       "      <th>1</th>\n",
       "      <td>000b25c8e43c43ae9f6254dbc8526092</td>\n",
       "      <td>FirstBank</td>\n",
       "      <td>1</td>\n",
       "      <td>1</td>\n",
       "      <td>6000</td>\n",
       "      <td>23000</td>\n",
       "      <td>176153.0</td>\n",
       "      <td>2022-04-04 09:28:40</td>\n",
       "      <td>2022-04-04 09:28:40</td>\n",
       "    </tr>\n",
       "    <tr>\n",
       "      <th>2</th>\n",
       "      <td>00264fec33e28373de984c7d8f4682cb</td>\n",
       "      <td>FirstBank</td>\n",
       "      <td>1</td>\n",
       "      <td>1</td>\n",
       "      <td>100000</td>\n",
       "      <td>350000</td>\n",
       "      <td>2831.0</td>\n",
       "      <td>2022-04-17 19:46:22</td>\n",
       "      <td>2022-04-17 19:46:22</td>\n",
       "    </tr>\n",
       "    <tr>\n",
       "      <th>3</th>\n",
       "      <td>00264fec33e28373de984c7d8f4682cb</td>\n",
       "      <td>FirstBank</td>\n",
       "      <td>1</td>\n",
       "      <td>2</td>\n",
       "      <td>20000</td>\n",
       "      <td>400</td>\n",
       "      <td>171.0</td>\n",
       "      <td>2022-04-12 17:49:53</td>\n",
       "      <td>2022-04-12 17:49:53</td>\n",
       "    </tr>\n",
       "    <tr>\n",
       "      <th>4</th>\n",
       "      <td>00264fec33e28373de984c7d8f4682cb</td>\n",
       "      <td>FirstBank</td>\n",
       "      <td>1</td>\n",
       "      <td>1</td>\n",
       "      <td>63406</td>\n",
       "      <td>2000</td>\n",
       "      <td>3421.0</td>\n",
       "      <td>2022-04-08 12:46:44</td>\n",
       "      <td>2022-04-08 12:46:44</td>\n",
       "    </tr>\n",
       "  </tbody>\n",
       "</table>\n",
       "</div>"
      ],
      "text/plain": [
       "                             msisdn   bank_name  num_of_inflow  \\\n",
       "0  0007e2225038168c4ef68de685a3084a  ZENITHBANK              1   \n",
       "1  000b25c8e43c43ae9f6254dbc8526092   FirstBank              1   \n",
       "2  00264fec33e28373de984c7d8f4682cb   FirstBank              1   \n",
       "3  00264fec33e28373de984c7d8f4682cb   FirstBank              1   \n",
       "4  00264fec33e28373de984c7d8f4682cb   FirstBank              1   \n",
       "\n",
       "   num_of_outflow  vol_of_inflow  vol_of_outflow   balance  \\\n",
       "0               1           3400           16000      46.0   \n",
       "1               1           6000           23000  176153.0   \n",
       "2               1         100000          350000    2831.0   \n",
       "3               2          20000             400     171.0   \n",
       "4               1          63406            2000    3421.0   \n",
       "\n",
       "             timestamp                 date  \n",
       "0  2022-04-10 20:34:43  2022-04-10 20:34:43  \n",
       "1  2022-04-04 09:28:40  2022-04-04 09:28:40  \n",
       "2  2022-04-17 19:46:22  2022-04-17 19:46:22  \n",
       "3  2022-04-12 17:49:53  2022-04-12 17:49:53  \n",
       "4  2022-04-08 12:46:44  2022-04-08 12:46:44  "
      ]
     },
     "execution_count": 55,
     "metadata": {},
     "output_type": "execute_result"
    }
   ],
   "source": [
    "df.head()"
   ]
  },
  {
   "cell_type": "code",
   "execution_count": 56,
   "id": "81f21fe2-a385-4cce-a58e-06ef0432622e",
   "metadata": {},
   "outputs": [],
   "source": [
    "time_list=[]\n",
    "for times in df['date'].tolist():\n",
    "    time_cut = times.split(' ')[0]\n",
    "    time_list.append(time_cut)\n",
    "    \n"
   ]
  },
  {
   "cell_type": "code",
   "execution_count": 57,
   "id": "079a5e97-fa83-4700-8ba0-665af26c5c8d",
   "metadata": {},
   "outputs": [],
   "source": [
    "df['Date'] = time_list"
   ]
  },
  {
   "cell_type": "code",
   "execution_count": 58,
   "id": "a16a7448-3486-4957-bdf3-f9493f25ded6",
   "metadata": {},
   "outputs": [
    {
     "data": {
      "text/html": [
       "<div>\n",
       "<style scoped>\n",
       "    .dataframe tbody tr th:only-of-type {\n",
       "        vertical-align: middle;\n",
       "    }\n",
       "\n",
       "    .dataframe tbody tr th {\n",
       "        vertical-align: top;\n",
       "    }\n",
       "\n",
       "    .dataframe thead th {\n",
       "        text-align: right;\n",
       "    }\n",
       "</style>\n",
       "<table border=\"1\" class=\"dataframe\">\n",
       "  <thead>\n",
       "    <tr style=\"text-align: right;\">\n",
       "      <th></th>\n",
       "      <th>msisdn</th>\n",
       "      <th>bank_name</th>\n",
       "      <th>num_of_inflow</th>\n",
       "      <th>num_of_outflow</th>\n",
       "      <th>vol_of_inflow</th>\n",
       "      <th>vol_of_outflow</th>\n",
       "      <th>balance</th>\n",
       "      <th>timestamp</th>\n",
       "      <th>date</th>\n",
       "      <th>Date</th>\n",
       "    </tr>\n",
       "  </thead>\n",
       "  <tbody>\n",
       "    <tr>\n",
       "      <th>0</th>\n",
       "      <td>0007e2225038168c4ef68de685a3084a</td>\n",
       "      <td>ZENITHBANK</td>\n",
       "      <td>1</td>\n",
       "      <td>1</td>\n",
       "      <td>3400</td>\n",
       "      <td>16000</td>\n",
       "      <td>46.0</td>\n",
       "      <td>2022-04-10 20:34:43</td>\n",
       "      <td>2022-04-10 20:34:43</td>\n",
       "      <td>2022-04-10</td>\n",
       "    </tr>\n",
       "    <tr>\n",
       "      <th>1</th>\n",
       "      <td>000b25c8e43c43ae9f6254dbc8526092</td>\n",
       "      <td>FirstBank</td>\n",
       "      <td>1</td>\n",
       "      <td>1</td>\n",
       "      <td>6000</td>\n",
       "      <td>23000</td>\n",
       "      <td>176153.0</td>\n",
       "      <td>2022-04-04 09:28:40</td>\n",
       "      <td>2022-04-04 09:28:40</td>\n",
       "      <td>2022-04-04</td>\n",
       "    </tr>\n",
       "    <tr>\n",
       "      <th>2</th>\n",
       "      <td>00264fec33e28373de984c7d8f4682cb</td>\n",
       "      <td>FirstBank</td>\n",
       "      <td>1</td>\n",
       "      <td>1</td>\n",
       "      <td>100000</td>\n",
       "      <td>350000</td>\n",
       "      <td>2831.0</td>\n",
       "      <td>2022-04-17 19:46:22</td>\n",
       "      <td>2022-04-17 19:46:22</td>\n",
       "      <td>2022-04-17</td>\n",
       "    </tr>\n",
       "    <tr>\n",
       "      <th>3</th>\n",
       "      <td>00264fec33e28373de984c7d8f4682cb</td>\n",
       "      <td>FirstBank</td>\n",
       "      <td>1</td>\n",
       "      <td>2</td>\n",
       "      <td>20000</td>\n",
       "      <td>400</td>\n",
       "      <td>171.0</td>\n",
       "      <td>2022-04-12 17:49:53</td>\n",
       "      <td>2022-04-12 17:49:53</td>\n",
       "      <td>2022-04-12</td>\n",
       "    </tr>\n",
       "    <tr>\n",
       "      <th>4</th>\n",
       "      <td>00264fec33e28373de984c7d8f4682cb</td>\n",
       "      <td>FirstBank</td>\n",
       "      <td>1</td>\n",
       "      <td>1</td>\n",
       "      <td>63406</td>\n",
       "      <td>2000</td>\n",
       "      <td>3421.0</td>\n",
       "      <td>2022-04-08 12:46:44</td>\n",
       "      <td>2022-04-08 12:46:44</td>\n",
       "      <td>2022-04-08</td>\n",
       "    </tr>\n",
       "  </tbody>\n",
       "</table>\n",
       "</div>"
      ],
      "text/plain": [
       "                             msisdn   bank_name  num_of_inflow  \\\n",
       "0  0007e2225038168c4ef68de685a3084a  ZENITHBANK              1   \n",
       "1  000b25c8e43c43ae9f6254dbc8526092   FirstBank              1   \n",
       "2  00264fec33e28373de984c7d8f4682cb   FirstBank              1   \n",
       "3  00264fec33e28373de984c7d8f4682cb   FirstBank              1   \n",
       "4  00264fec33e28373de984c7d8f4682cb   FirstBank              1   \n",
       "\n",
       "   num_of_outflow  vol_of_inflow  vol_of_outflow   balance  \\\n",
       "0               1           3400           16000      46.0   \n",
       "1               1           6000           23000  176153.0   \n",
       "2               1         100000          350000    2831.0   \n",
       "3               2          20000             400     171.0   \n",
       "4               1          63406            2000    3421.0   \n",
       "\n",
       "             timestamp                 date        Date  \n",
       "0  2022-04-10 20:34:43  2022-04-10 20:34:43  2022-04-10  \n",
       "1  2022-04-04 09:28:40  2022-04-04 09:28:40  2022-04-04  \n",
       "2  2022-04-17 19:46:22  2022-04-17 19:46:22  2022-04-17  \n",
       "3  2022-04-12 17:49:53  2022-04-12 17:49:53  2022-04-12  \n",
       "4  2022-04-08 12:46:44  2022-04-08 12:46:44  2022-04-08  "
      ]
     },
     "execution_count": 58,
     "metadata": {},
     "output_type": "execute_result"
    }
   ],
   "source": [
    "df.head()"
   ]
  },
  {
   "cell_type": "code",
   "execution_count": 59,
   "id": "2f8bf77e-6389-4efc-9cc2-be2544fff46e",
   "metadata": {},
   "outputs": [],
   "source": [
    "df.drop(['timestamp','date'],axis=1,inplace=True)"
   ]
  },
  {
   "cell_type": "code",
   "execution_count": 60,
   "id": "10aae487-456b-4d8f-b8f2-52764d907687",
   "metadata": {},
   "outputs": [
    {
     "data": {
      "text/html": [
       "<div>\n",
       "<style scoped>\n",
       "    .dataframe tbody tr th:only-of-type {\n",
       "        vertical-align: middle;\n",
       "    }\n",
       "\n",
       "    .dataframe tbody tr th {\n",
       "        vertical-align: top;\n",
       "    }\n",
       "\n",
       "    .dataframe thead th {\n",
       "        text-align: right;\n",
       "    }\n",
       "</style>\n",
       "<table border=\"1\" class=\"dataframe\">\n",
       "  <thead>\n",
       "    <tr style=\"text-align: right;\">\n",
       "      <th></th>\n",
       "      <th>msisdn</th>\n",
       "      <th>bank_name</th>\n",
       "      <th>num_of_inflow</th>\n",
       "      <th>num_of_outflow</th>\n",
       "      <th>vol_of_inflow</th>\n",
       "      <th>vol_of_outflow</th>\n",
       "      <th>balance</th>\n",
       "      <th>Date</th>\n",
       "    </tr>\n",
       "  </thead>\n",
       "  <tbody>\n",
       "    <tr>\n",
       "      <th>0</th>\n",
       "      <td>0007e2225038168c4ef68de685a3084a</td>\n",
       "      <td>ZENITHBANK</td>\n",
       "      <td>1</td>\n",
       "      <td>1</td>\n",
       "      <td>3400</td>\n",
       "      <td>16000</td>\n",
       "      <td>46.0</td>\n",
       "      <td>2022-04-10</td>\n",
       "    </tr>\n",
       "    <tr>\n",
       "      <th>1</th>\n",
       "      <td>000b25c8e43c43ae9f6254dbc8526092</td>\n",
       "      <td>FirstBank</td>\n",
       "      <td>1</td>\n",
       "      <td>1</td>\n",
       "      <td>6000</td>\n",
       "      <td>23000</td>\n",
       "      <td>176153.0</td>\n",
       "      <td>2022-04-04</td>\n",
       "    </tr>\n",
       "    <tr>\n",
       "      <th>2</th>\n",
       "      <td>00264fec33e28373de984c7d8f4682cb</td>\n",
       "      <td>FirstBank</td>\n",
       "      <td>1</td>\n",
       "      <td>1</td>\n",
       "      <td>100000</td>\n",
       "      <td>350000</td>\n",
       "      <td>2831.0</td>\n",
       "      <td>2022-04-17</td>\n",
       "    </tr>\n",
       "    <tr>\n",
       "      <th>3</th>\n",
       "      <td>00264fec33e28373de984c7d8f4682cb</td>\n",
       "      <td>FirstBank</td>\n",
       "      <td>1</td>\n",
       "      <td>2</td>\n",
       "      <td>20000</td>\n",
       "      <td>400</td>\n",
       "      <td>171.0</td>\n",
       "      <td>2022-04-12</td>\n",
       "    </tr>\n",
       "    <tr>\n",
       "      <th>4</th>\n",
       "      <td>00264fec33e28373de984c7d8f4682cb</td>\n",
       "      <td>FirstBank</td>\n",
       "      <td>1</td>\n",
       "      <td>1</td>\n",
       "      <td>63406</td>\n",
       "      <td>2000</td>\n",
       "      <td>3421.0</td>\n",
       "      <td>2022-04-08</td>\n",
       "    </tr>\n",
       "  </tbody>\n",
       "</table>\n",
       "</div>"
      ],
      "text/plain": [
       "                             msisdn   bank_name  num_of_inflow  \\\n",
       "0  0007e2225038168c4ef68de685a3084a  ZENITHBANK              1   \n",
       "1  000b25c8e43c43ae9f6254dbc8526092   FirstBank              1   \n",
       "2  00264fec33e28373de984c7d8f4682cb   FirstBank              1   \n",
       "3  00264fec33e28373de984c7d8f4682cb   FirstBank              1   \n",
       "4  00264fec33e28373de984c7d8f4682cb   FirstBank              1   \n",
       "\n",
       "   num_of_outflow  vol_of_inflow  vol_of_outflow   balance        Date  \n",
       "0               1           3400           16000      46.0  2022-04-10  \n",
       "1               1           6000           23000  176153.0  2022-04-04  \n",
       "2               1         100000          350000    2831.0  2022-04-17  \n",
       "3               2          20000             400     171.0  2022-04-12  \n",
       "4               1          63406            2000    3421.0  2022-04-08  "
      ]
     },
     "execution_count": 60,
     "metadata": {},
     "output_type": "execute_result"
    }
   ],
   "source": [
    "df.head()"
   ]
  },
  {
   "cell_type": "code",
   "execution_count": 71,
   "id": "f59dea2b-6796-49e8-9eeb-217ba58ade5f",
   "metadata": {},
   "outputs": [],
   "source": [
    "# df = df.set_index(\"Date\")"
   ]
  },
  {
   "cell_type": "code",
   "execution_count": 61,
   "id": "d069d3e1-e351-4ad8-9ef7-fb2f48672870",
   "metadata": {},
   "outputs": [
    {
     "data": {
      "text/html": [
       "<div>\n",
       "<style scoped>\n",
       "    .dataframe tbody tr th:only-of-type {\n",
       "        vertical-align: middle;\n",
       "    }\n",
       "\n",
       "    .dataframe tbody tr th {\n",
       "        vertical-align: top;\n",
       "    }\n",
       "\n",
       "    .dataframe thead th {\n",
       "        text-align: right;\n",
       "    }\n",
       "</style>\n",
       "<table border=\"1\" class=\"dataframe\">\n",
       "  <thead>\n",
       "    <tr style=\"text-align: right;\">\n",
       "      <th></th>\n",
       "      <th>msisdn</th>\n",
       "      <th>bank_name</th>\n",
       "      <th>num_of_inflow</th>\n",
       "      <th>num_of_outflow</th>\n",
       "      <th>vol_of_inflow</th>\n",
       "      <th>vol_of_outflow</th>\n",
       "      <th>balance</th>\n",
       "      <th>Date</th>\n",
       "    </tr>\n",
       "  </thead>\n",
       "  <tbody>\n",
       "    <tr>\n",
       "      <th>0</th>\n",
       "      <td>0007e2225038168c4ef68de685a3084a</td>\n",
       "      <td>ZENITHBANK</td>\n",
       "      <td>1</td>\n",
       "      <td>1</td>\n",
       "      <td>3400</td>\n",
       "      <td>16000</td>\n",
       "      <td>46.0</td>\n",
       "      <td>2022-04-10</td>\n",
       "    </tr>\n",
       "    <tr>\n",
       "      <th>1</th>\n",
       "      <td>000b25c8e43c43ae9f6254dbc8526092</td>\n",
       "      <td>FirstBank</td>\n",
       "      <td>1</td>\n",
       "      <td>1</td>\n",
       "      <td>6000</td>\n",
       "      <td>23000</td>\n",
       "      <td>176153.0</td>\n",
       "      <td>2022-04-04</td>\n",
       "    </tr>\n",
       "    <tr>\n",
       "      <th>2</th>\n",
       "      <td>00264fec33e28373de984c7d8f4682cb</td>\n",
       "      <td>FirstBank</td>\n",
       "      <td>1</td>\n",
       "      <td>1</td>\n",
       "      <td>100000</td>\n",
       "      <td>350000</td>\n",
       "      <td>2831.0</td>\n",
       "      <td>2022-04-17</td>\n",
       "    </tr>\n",
       "    <tr>\n",
       "      <th>3</th>\n",
       "      <td>00264fec33e28373de984c7d8f4682cb</td>\n",
       "      <td>FirstBank</td>\n",
       "      <td>1</td>\n",
       "      <td>2</td>\n",
       "      <td>20000</td>\n",
       "      <td>400</td>\n",
       "      <td>171.0</td>\n",
       "      <td>2022-04-12</td>\n",
       "    </tr>\n",
       "    <tr>\n",
       "      <th>4</th>\n",
       "      <td>00264fec33e28373de984c7d8f4682cb</td>\n",
       "      <td>FirstBank</td>\n",
       "      <td>1</td>\n",
       "      <td>1</td>\n",
       "      <td>63406</td>\n",
       "      <td>2000</td>\n",
       "      <td>3421.0</td>\n",
       "      <td>2022-04-08</td>\n",
       "    </tr>\n",
       "  </tbody>\n",
       "</table>\n",
       "</div>"
      ],
      "text/plain": [
       "                             msisdn   bank_name  num_of_inflow  \\\n",
       "0  0007e2225038168c4ef68de685a3084a  ZENITHBANK              1   \n",
       "1  000b25c8e43c43ae9f6254dbc8526092   FirstBank              1   \n",
       "2  00264fec33e28373de984c7d8f4682cb   FirstBank              1   \n",
       "3  00264fec33e28373de984c7d8f4682cb   FirstBank              1   \n",
       "4  00264fec33e28373de984c7d8f4682cb   FirstBank              1   \n",
       "\n",
       "   num_of_outflow  vol_of_inflow  vol_of_outflow   balance        Date  \n",
       "0               1           3400           16000      46.0  2022-04-10  \n",
       "1               1           6000           23000  176153.0  2022-04-04  \n",
       "2               1         100000          350000    2831.0  2022-04-17  \n",
       "3               2          20000             400     171.0  2022-04-12  \n",
       "4               1          63406            2000    3421.0  2022-04-08  "
      ]
     },
     "execution_count": 61,
     "metadata": {},
     "output_type": "execute_result"
    }
   ],
   "source": [
    "df.head()"
   ]
  },
  {
   "cell_type": "code",
   "execution_count": 80,
   "id": "59ee8c09-cece-403f-8147-d143670c1acd",
   "metadata": {},
   "outputs": [],
   "source": [
    "df.to_csv('view360_clean.csv',index=False)"
   ]
  },
  {
   "cell_type": "code",
   "execution_count": 62,
   "id": "af5dfcc8-9a4c-4979-b948-466dc4866236",
   "metadata": {},
   "outputs": [],
   "source": [
    "test_df = df[df.msisdn=='e553cfe592cc79c6084dd72c1d21bd35']"
   ]
  },
  {
   "cell_type": "code",
   "execution_count": 63,
   "id": "fbc02a25-d572-4492-a1e2-0e18ffabb24a",
   "metadata": {},
   "outputs": [
    {
     "data": {
      "text/html": [
       "<div>\n",
       "<style scoped>\n",
       "    .dataframe tbody tr th:only-of-type {\n",
       "        vertical-align: middle;\n",
       "    }\n",
       "\n",
       "    .dataframe tbody tr th {\n",
       "        vertical-align: top;\n",
       "    }\n",
       "\n",
       "    .dataframe thead th {\n",
       "        text-align: right;\n",
       "    }\n",
       "</style>\n",
       "<table border=\"1\" class=\"dataframe\">\n",
       "  <thead>\n",
       "    <tr style=\"text-align: right;\">\n",
       "      <th></th>\n",
       "      <th>msisdn</th>\n",
       "      <th>bank_name</th>\n",
       "      <th>num_of_inflow</th>\n",
       "      <th>num_of_outflow</th>\n",
       "      <th>vol_of_inflow</th>\n",
       "      <th>vol_of_outflow</th>\n",
       "      <th>balance</th>\n",
       "      <th>Date</th>\n",
       "    </tr>\n",
       "  </thead>\n",
       "  <tbody>\n",
       "    <tr>\n",
       "      <th>11362</th>\n",
       "      <td>e553cfe592cc79c6084dd72c1d21bd35</td>\n",
       "      <td>FidelitySMS</td>\n",
       "      <td>1</td>\n",
       "      <td>1</td>\n",
       "      <td>1000000</td>\n",
       "      <td>100000</td>\n",
       "      <td>575996.0</td>\n",
       "      <td>2022-04-09</td>\n",
       "    </tr>\n",
       "    <tr>\n",
       "      <th>11363</th>\n",
       "      <td>e553cfe592cc79c6084dd72c1d21bd35</td>\n",
       "      <td>AccessBank</td>\n",
       "      <td>2</td>\n",
       "      <td>1</td>\n",
       "      <td>200000</td>\n",
       "      <td>224053</td>\n",
       "      <td>3285748.0</td>\n",
       "      <td>2022-04-11</td>\n",
       "    </tr>\n",
       "    <tr>\n",
       "      <th>11364</th>\n",
       "      <td>e553cfe592cc79c6084dd72c1d21bd35</td>\n",
       "      <td>FidelitySMS</td>\n",
       "      <td>1</td>\n",
       "      <td>1</td>\n",
       "      <td>8000</td>\n",
       "      <td>100000</td>\n",
       "      <td>622996.0</td>\n",
       "      <td>2022-04-09</td>\n",
       "    </tr>\n",
       "    <tr>\n",
       "      <th>11365</th>\n",
       "      <td>e553cfe592cc79c6084dd72c1d21bd35</td>\n",
       "      <td>FidelitySMS</td>\n",
       "      <td>1</td>\n",
       "      <td>1</td>\n",
       "      <td>90500</td>\n",
       "      <td>26000</td>\n",
       "      <td>109576.0</td>\n",
       "      <td>2022-04-09</td>\n",
       "    </tr>\n",
       "    <tr>\n",
       "      <th>11366</th>\n",
       "      <td>e553cfe592cc79c6084dd72c1d21bd35</td>\n",
       "      <td>AccessBank</td>\n",
       "      <td>1</td>\n",
       "      <td>1</td>\n",
       "      <td>132000</td>\n",
       "      <td>260053</td>\n",
       "      <td>291963.0</td>\n",
       "      <td>2022-04-06</td>\n",
       "    </tr>\n",
       "  </tbody>\n",
       "</table>\n",
       "</div>"
      ],
      "text/plain": [
       "                                 msisdn    bank_name  num_of_inflow  \\\n",
       "11362  e553cfe592cc79c6084dd72c1d21bd35  FidelitySMS              1   \n",
       "11363  e553cfe592cc79c6084dd72c1d21bd35   AccessBank              2   \n",
       "11364  e553cfe592cc79c6084dd72c1d21bd35  FidelitySMS              1   \n",
       "11365  e553cfe592cc79c6084dd72c1d21bd35  FidelitySMS              1   \n",
       "11366  e553cfe592cc79c6084dd72c1d21bd35   AccessBank              1   \n",
       "\n",
       "       num_of_outflow  vol_of_inflow  vol_of_outflow    balance        Date  \n",
       "11362               1        1000000          100000   575996.0  2022-04-09  \n",
       "11363               1         200000          224053  3285748.0  2022-04-11  \n",
       "11364               1           8000          100000   622996.0  2022-04-09  \n",
       "11365               1          90500           26000   109576.0  2022-04-09  \n",
       "11366               1         132000          260053   291963.0  2022-04-06  "
      ]
     },
     "execution_count": 63,
     "metadata": {},
     "output_type": "execute_result"
    }
   ],
   "source": [
    "test_df.head()"
   ]
  },
  {
   "cell_type": "code",
   "execution_count": 64,
   "id": "52dcfb66-7b5e-4049-9aaf-34036ea5a93c",
   "metadata": {},
   "outputs": [],
   "source": [
    "import matplotlib.pyplot as plt"
   ]
  },
  {
   "cell_type": "code",
   "execution_count": 66,
   "id": "40b43590-9567-4f77-8c49-1ff06deec240",
   "metadata": {},
   "outputs": [
    {
     "data": {
      "image/png": "[encoded data removed]",
      "text/plain": [
       "<Figure size 432x288 with 1 Axes>"
      ]
     },
     "metadata": {
      "needs_background": "light"
     },
     "output_type": "display_data"
    }
   ],
   "source": [
    "plt.plot(test_df[\"Date\"], test_df['balance'], marker='o')\n",
    "plt.xticks(rotation=15);"
   ]
  },
  {
   "cell_type": "code",
   "execution_count": 67,
   "id": "e7d395cb-5885-4569-b012-1f774e0e5380",
   "metadata": {},
   "outputs": [],
   "source": [
    "import seaborn as sns"
   ]
  },
  {
   "cell_type": "code",
   "execution_count": 75,
   "id": "1e26166a-212a-41e1-ab66-8f04c8e82ca5",
   "metadata": {},
   "outputs": [
    {
     "data": {
      "image/png": "[encoded data removed]",
      "text/plain": [
       "<Figure size 864x432 with 1 Axes>"
      ]
     },
     "metadata": {
      "needs_background": "light"
     },
     "output_type": "display_data"
    }
   ],
   "source": [
    "plt.figure(figsize=(12,6))\n",
    "sns.lineplot(x = \"Date\", y = \"balance\",\n",
    "             data = test_df,hue='bank_name')\n",
    "plt.legend(title='Bank Name')\n",
    "plt.ylabel('Account Balance (x1000000)')\n",
    "plt.xlabel('Date')\n",
    "plt.xticks(rotation=20);"
   ]
  },
  {
   "cell_type": "code",
   "execution_count": 77,
   "id": "7feceba5-d902-48a6-b769-d76b4464ae13",
   "metadata": {},
   "outputs": [
    {
     "data": {
      "image/png": "[encoded data removed]",
      "text/plain": [
       "<Figure size 864x432 with 1 Axes>"
      ]
     },
     "metadata": {
      "needs_background": "light"
     },
     "output_type": "display_data"
    }
   ],
   "source": [
    "plt.figure(figsize=(12,6))\n",
    "sns.lineplot(x = \"Date\", y = \"vol_of_inflow\",\n",
    "             data = test_df,hue='bank_name')\n",
    "plt.legend(title='Bank Name')\n",
    "plt.ylabel('Volume of Inflow (x1000000)')\n",
    "plt.xlabel('Date')\n",
    "plt.xticks(rotation=20);"
   ]
  },
  {
   "cell_type": "code",
   "execution_count": 78,
   "id": "b7024921-7a86-45bc-bb57-794d06e21629",
   "metadata": {},
   "outputs": [
    {
     "data": {
      "image/png": "[encoded data removed]",
      "text/plain": [
       "<Figure size 864x432 with 1 Axes>"
      ]
     },
     "metadata": {
      "needs_background": "light"
     },
     "output_type": "display_data"
    }
   ],
   "source": [
    "plt.figure(figsize=(12,6))\n",
    "sns.lineplot(x = \"Date\", y = \"vol_of_outflow\",\n",
    "             data = test_df,hue='bank_name')\n",
    "plt.legend(title='Bank Name')\n",
    "plt.ylabel('Volume of Outflow (x1000000)')\n",
    "plt.xlabel('Date')\n",
    "plt.xticks(rotation=20);"
   ]
  },
  {
   "cell_type": "code",
   "execution_count": null,
   "id": "5f2d0bd0-0cb0-4eb0-9a45-d35901aad587",
   "metadata": {},
   "outputs": [],
   "source": []
  }
 ],
 "metadata": {
  "kernelspec": {
   "display_name": "Python 3 (ipykernel)",
   "language": "python",
   "name": "python3"
  },
  "language_info": {
   "codemirror_mode": {
    "name": "ipython",
    "version": 3
   },
   "file_extension": ".py",
   "mimetype": "text/x-python",
   "name": "python",
   "nbconvert_exporter": "python",
   "pygments_lexer": "ipython3",
   "version": "3.9.12"
  },
  "widgets": {
   "application/vnd.jupyter.widget-state+json": {
    "state": {},
    "version_major": 2,
    "version_minor": 0
   }
  }
 },
 "nbformat": 4,
 "nbformat_minor": 5
}
