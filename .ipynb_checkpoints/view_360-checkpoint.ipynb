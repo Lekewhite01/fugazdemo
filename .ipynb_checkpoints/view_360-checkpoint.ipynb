{
 "cells": [
  {
   "cell_type": "code",
   "execution_count": 1,
   "id": "488e0d91",
   "metadata": {},
   "outputs": [
    {
     "name": "stderr",
     "output_type": "stream",
     "text": [
      "2022-09-27 02:59:01,295 creating spark session\n",
      "Warning: Ignoring non-Spark config property: fs.s3a.connection.maximum\n"
     ]
    },
    {
     "name": "stdout",
     "output_type": "stream",
     "text": [
      ":: loading settings :: url = jar:file:/home/ec2-user/SageMaker/custom-miniconda/miniconda/envs/custom_python/lib/python3.7/site-packages/pyspark/jars/ivy-2.5.0.jar!/org/apache/ivy/core/settings/ivysettings.xml\n"
     ]
    },
    {
     "name": "stderr",
     "output_type": "stream",
     "text": [
      "Ivy Default Cache set to: /home/ec2-user/.ivy2/cache\n",
      "The jars for the packages stored in: /home/ec2-user/.ivy2/jars\n",
      "org.apache.hadoop#hadoop-aws added as a dependency\n",
      "com.amazonaws#aws-java-sdk-bundle added as a dependency\n",
      ":: resolving dependencies :: org.apache.spark#spark-submit-parent-290c8833-3629-4fa8-96e7-1e86a92a8609;1.0\n",
      "\tconfs: [default]\n",
      "\tfound org.apache.hadoop#hadoop-aws;3.2.2 in central\n",
      "\tfound com.amazonaws#aws-java-sdk-bundle;1.11.901 in central\n",
      ":: resolution report :: resolve 124ms :: artifacts dl 3ms\n",
      "\t:: modules in use:\n",
      "\tcom.amazonaws#aws-java-sdk-bundle;1.11.901 from central in [default]\n",
      "\torg.apache.hadoop#hadoop-aws;3.2.2 from central in [default]\n",
      "\t:: evicted modules:\n",
      "\tcom.amazonaws#aws-java-sdk-bundle;1.11.563 by [com.amazonaws#aws-java-sdk-bundle;1.11.901] in [default]\n",
      "\t---------------------------------------------------------------------\n",
      "\t|                  |            modules            ||   artifacts   |\n",
      "\t|       conf       | number| search|dwnlded|evicted|| number|dwnlded|\n",
      "\t---------------------------------------------------------------------\n",
      "\t|      default     |   3   |   0   |   0   |   1   ||   2   |   0   |\n",
      "\t---------------------------------------------------------------------\n",
      ":: retrieving :: org.apache.spark#spark-submit-parent-290c8833-3629-4fa8-96e7-1e86a92a8609\n",
      "\tconfs: [default]\n",
      "\t0 artifacts copied, 2 already retrieved (0kB/4ms)\n"
     ]
    },
    {
     "name": "stdout",
     "output_type": "stream",
     "text": [
      "22/09/27 02:59:03 WARN NativeCodeLoader: Unable to load native-hadoop library for your platform... using builtin-java classes where applicable\n"
     ]
    },
    {
     "name": "stderr",
     "output_type": "stream",
     "text": [
      "Setting default log level to \"WARN\".\n",
      "To adjust logging level use sc.setLogLevel(newLevel). For SparkR, use setLogLevel(newLevel).\n"
     ]
    },
    {
     "name": "stdout",
     "output_type": "stream",
     "text": [
      "22/09/27 02:59:03 WARN SparkConf: Note that spark.local.dir will be overridden by the value set by the cluster manager (via SPARK_LOCAL_DIRS in mesos/standalone/kubernetes and LOCAL_DIRS in YARN).\n"
     ]
    }
   ],
   "source": [
    "import re\n",
    "import os\n",
    "import sys\n",
    "import json\n",
    "import datetime\n",
    "import requests\n",
    "import warnings\n",
    "import yaml\n",
    "import pickle as pkl\n",
    "import s3fs\n",
    "import logging\n",
    "\n",
    "from datetime import date, timedelta\n",
    "# from readfile import *\n",
    "# from dependency import categorize, cleaning, utils\n",
    "from pyspark import SparkConf, SparkContext\n",
    "from pyspark.sql import SparkSession, SQLContext\n",
    "from pyspark.sql.types import *\n",
    "from pyspark.sql.functions import *\n",
    "from utils import *\n",
    "\n",
    "import pyspark.sql.functions as F\n",
    "import botocore.session\n",
    "\n",
    "logging.basicConfig(level=logging.INFO, format=\"%(asctime)-15s %(message)s\")\n",
    "logger = logging.getLogger()\n",
    "session = botocore.session.get_session()\n",
    "credentials = session.get_credentials()\n",
    "fs = s3fs.S3FileSystem()\n",
    "warnings.filterwarnings(\"ignore\")\n",
    "os.environ['PYSPARK_PYTHON'] = sys.executable\n",
    "os.environ['PYSPARK_DRIVER_PYTHON'] = sys.executable\n",
    "logger.info(\"creating spark session\")\n",
    "conf = SparkConf()\\\n",
    ".set('spark.jars.packages', 'org.apache.hadoop:hadoop-aws:3.2.2,com.amazonaws:aws-java-sdk-bundle:1.11.901')\\\n",
    ".set('spark.executor.memory','512g')\\\n",
    ".set(\"spark.local.dir\", \"/home/ec2-user/SageMaker\")\\\n",
    ".set('spark.driver.memory', '512g')\\\n",
    ".set(\"fs.s3a.connection.maximum\", 100)\\\n",
    ".set('spark.sql.shuffle.partitions',300)\n",
    "sc = SparkContext(conf=conf)\n",
    "sc.setLogLevel(\"error\")\n",
    "spark = SparkSession(sc).builder.master('local[*]').appName('test').getOrCreate()\n",
    "spark._jsc.hadoopConfiguration().set(\"fs.s3a.impl\",\"org.apache.hadoop.fs.s3a.S3AFileSystem\")\n",
    "spark._jsc.hadoopConfiguration().set(\"fs.s3a.endpoint\", \"s3.amazonaws.com\")\n",
    "spark._jsc.hadoopConfiguration().set(\"fs.s3a.aws.credentials.provider\", \"com.amazonaws.auth.DefaultAWSCredentialsProviderChain\")\n",
    "spark.sparkContext.setSystemProperty('com.amazonaws.services.s3.enableV4', 'true')"
   ]
  },
  {
   "cell_type": "code",
   "execution_count": 2,
   "id": "58dd42f6",
   "metadata": {},
   "outputs": [],
   "source": [
    "month,year = '04','2022'"
   ]
  },
  {
   "cell_type": "code",
   "execution_count": 3,
   "id": "0ce1a4c4",
   "metadata": {},
   "outputs": [
    {
     "data": {
      "text/plain": [
       "DataFrame[msisdn: string, clean_msg: string, amount: string, balance: string, type: string, message_id_internal: string, clean_bal: string, clean_type: string, clean_amt: string, extraction: string, currency: string]"
      ]
     },
     "execution_count": 3,
     "metadata": {},
     "output_type": "execute_result"
    }
   ],
   "source": [
    "args = {'source3':f's3a://datateam-ml/processed_data/ner/_year={year}/_month={month}/',\n",
    "       'source4':f's3a://datateam-ml/Bulk_sms_data_ENR_pred_v2/New_predictions/temp/YEAR={year}/MONTH={month}/'}\n",
    "\n",
    "ner_new = spark.read.options(header='true', \n",
    "                                      inferschema='true').parquet(args['source3'])\n",
    "\n",
    "ner_old = spark.read.options(header='true', \n",
    "                                      inferschema='true').parquet(args['source4'])\n",
    "\n",
    "ner_old.createOrReplaceTempView(\"ner_old\")\n",
    "\n",
    "ner_new.createOrReplaceTempView(\"ner_new\")\n",
    "\n",
    "ner_new = spark.sql(\"\"\"select *\n",
    "                  from ner_new\"\"\")\n",
    "\n",
    "ner_new.cache()"
   ]
  },
  {
   "cell_type": "code",
   "execution_count": null,
   "id": "18a2564b",
   "metadata": {},
   "outputs": [],
   "source": [
    "ner_new.show()"
   ]
  },
  {
   "cell_type": "code",
   "execution_count": 4,
   "id": "b5a1574f",
   "metadata": {},
   "outputs": [
    {
     "name": "stdout",
     "output_type": "stream",
     "text": [
      "root\n",
      " |-- msisdn: string (nullable = true)\n",
      " |-- clean_msg: string (nullable = true)\n",
      " |-- amount: string (nullable = true)\n",
      " |-- balance: string (nullable = true)\n",
      " |-- type: string (nullable = true)\n",
      " |-- message_id_internal: string (nullable = true)\n",
      " |-- clean_bal: string (nullable = true)\n",
      " |-- clean_type: string (nullable = true)\n",
      " |-- clean_amt: string (nullable = true)\n",
      " |-- extraction: string (nullable = true)\n",
      " |-- currency: string (nullable = true)\n",
      "\n"
     ]
    }
   ],
   "source": [
    "ner_new.printSchema()"
   ]
  },
  {
   "cell_type": "code",
   "execution_count": 4,
   "id": "5525edfb",
   "metadata": {},
   "outputs": [],
   "source": [
    "ner_old = spark.sql(\"\"\"SELECT *\n",
    "FROM ner_old\n",
    "\"\"\")"
   ]
  },
  {
   "cell_type": "code",
   "execution_count": 8,
   "id": "e35806ea",
   "metadata": {},
   "outputs": [
    {
     "name": "stdout",
     "output_type": "stream",
     "text": [
      "+--------------------+--------------------+---------+---------------+--------------------+----------------+--------------------+-------------------+--------+-----------+--------------------+---------------+---+\n",
      "|              MSISDN|           CLEAN_MSG|     TYPE|         AMOUNT|         DESCRIPTION|         BALANCE|                DATE|          TIMESTAMP|OPERATOR|SOURCE_ADDR| message_id_internal|mobile_operator|DAY|\n",
      "+--------------------+--------------------+---------+---------------+--------------------+----------------+--------------------+-------------------+--------+-----------+--------------------+---------------+---+\n",
      "|c25846f384bf3c4e1...|Debit  316XXXX427...|    Debit|  Amt  NGN5,000|Desc  POS TRAN T ...|       Bal  NGN3|            20 09 39|2022-04-15 20:09:42|        |  FirstBank|00008287-d22a-40c...|   AIRTEL_TRANS| 15|\n",
      "|c27e82a033fca6ee3...|Debit  306XXXX619...|    Debit|  Amt  NGN3,010|Desc  QS894 TRF A...|   Bal  NGN5,526|                    |2022-04-15 13:27:06|        |  FirstBank|0002803e-3b8a-4ad...|      MTN_TRANS| 15|\n",
      "|51fc60041af160f69...|Acct 512  Amt N50...|         |       Amt N500|Desc Top up IFO M...|      Bal N8,589|           15 Apr 22|2022-04-15 21:27:13|        |  JAIZ BANK|00039324-73a7-4e8...|   AIRTEL_TRANS| 15|\n",
      "|3df5e2c452b673363...|Debit NGN150,000 ...|    Debit|     NGN150,000|Desc  1397  Desc ...|Bal NGN2,902,343|           15 Apr 22|2022-04-15 01:01:39|        |    ECOBANK|0005321f-9c8b-416...|      MTN_TRANS| 15|\n",
      "|8da56522e669ae2f1...|Credit  Amt NGN19...|   Credit| Amt NGN197,400|Desc 099MDesc2210...|  Bal NGN784,071|          15/04/2022|2022-04-15 21:15:27|        | AccessBank|0005c40f-d204-4fe...|      MTN_TRANS| 15|\n",
      "|68abfcff742930d95...|Debit  Amt NGN30,...|    Debit|  Amt NGN30,000|Desc 099MJKL22105...|Bal NGN2,116,287|15/04/2022 60  To...|2022-04-15 08:35:45|        | AccessBank|00074258-051d-405...|      MTN_TRANS| 15|\n",
      "|492ff57f35ea48bcb...|Debit  Amt NGN50 ...|    Debit|      Amt NGN50|Desc 099MJKL22105...|   Bal NGN60,573|          15/04/2022|2022-04-15 12:25:30|        | AccessBank|00074dcc-eb3e-404...|      MTN_TRANS| 15|\n",
      "|0c1dea27340bc549a...|The Access Bank I...|         |               |               April|                |                    |2022-04-15 11:15:27|        | AccessBank|0007a446-80e2-46a...|      MTN_TRANS| 15|\n",
      "|bdf23ad205a353fd2...|Credit  313XXXX70...|   Credit|Amt  NGN177,000|Desc  UBN/EZIE GO...| Bal  NGN181,474|          55 09 Desc|2022-04-15 11:56:19|        |  FirstBank|00087967-dc25-4ef...|   AIRTEL_TRANS| 15|\n",
      "|ec257a8ca5e1bd593...|Acct 200091  DT 1...|       CR|      Amt 5,500|TRF FRM EFE   ATU...|     Bal 207,319|       DT 15/04/2022|2022-04-15 07:41:58|        | ZENITHBANK|00090aff-d38e-4a2...|      GLO_TRANS| 15|\n",
      "|98fa5e8228f937430...|Debit  318XXXX885...|    Debit| Amt  NGN40,000|Desc  Desc  MB GT...|   Bal  NGN6,451|                    |2022-04-15 07:40:16|        |  FirstBank|000924ca-8e4f-45f...|      MTN_TRANS| 15|\n",
      "|e5292fb97609c8917...|Debit  200XXXX797...|    Debit|  Amt  NGN5,000|Desc  Desc  MB AC...|   Bal  NGN1,100|                    |2022-04-15 11:30:02|        |  FirstBank|000a2d95-e17d-401...|      GLO_TRANS| 15|\n",
      "|23ea78ec78adbd144...|Credit  Amt NGN5,...|   Credit|   Amt NGN5,000|Desc 099MDesc2210...|   Bal NGN69,503|15/04/2022 10  Total|2022-04-15 16:55:57|        | AccessBank|000bcb11-c2fd-415...|      MTN_TRANS| 15|\n",
      "|ad0ea8fd40c033932...|Debit  Amt NGN500...|    Debit|     Amt NGN500|                    |  Bal NGN283,644|15/04/2022 53  To...|2022-04-15 10:42:03|        | AccessBank|000cfe56-9f1c-46c...|      MTN_TRANS| 15|\n",
      "|9ae91772f7402d47c...|Acct 7474  DR N15...|DR GAIM5!|        N15,000|Desc COB TRF TO S...|  Bal N2,955,677|              DT 15/|2022-04-15 18:08:19|        |FidelitySMS|000dfb88-977a-405...|      MTN_TRANS| 15|\n",
      "|4ae11e365378713f1...|Acct  2143  DR  N...|       DR|       NGN5,000|Desc  MOBILE/UNIO...|  Bal  NGN73,055|     DT  15/APR/2022|2022-04-15 16:38:11|        |  UNIONBANK|000f9b39-d570-48d...|   AIRTEL_TRANS| 15|\n",
      "|8b2ea6f893f95382b...|Debit  314XXXX368...|    Debit|    Amt  NGN400|Desc  Desc  MB KM...|     Bal  NGN912|                    |2022-04-15 19:33:56|        |  FirstBank|0010387a-8b87-469...|      MTN_TRANS| 15|\n",
      "|09ac075e63e620a03...|Debit  Amt NGN10 ...|    Debit|      Amt NGN10|Desc 098WNVI22105...|       Bal NGN74|15/04/2022 39  To...|2022-04-15 20:34:02|        | AccessBank|0010feee-18e4-493...|   AIRTEL_TRANS| 15|\n",
      "|13c22c954364f1389...|Debit  Amt NGN1,0...|    Debit|   Amt NGN1,000|Desc 098WNMC22105...|    Bal NGN5,023|          15/04/2022|2022-04-15 16:53:13|        | AccessBank|00123ec5-587e-49e...|   AIRTEL_TRANS| 15|\n",
      "|08b74aa8bfed89ce3...|Debit  Amt NGN100...|    Debit|     Amt NGN100|                    |       Bal NGN50|          15/04/2022|2022-04-15 20:47:16|        | AccessBank|001252e7-673b-4ac...|   AIRTEL_TRANS| 15|\n",
      "+--------------------+--------------------+---------+---------------+--------------------+----------------+--------------------+-------------------+--------+-----------+--------------------+---------------+---+\n",
      "only showing top 20 rows\n",
      "\n"
     ]
    }
   ],
   "source": [
    "ner_old.show()"
   ]
  },
  {
   "cell_type": "code",
   "execution_count": 6,
   "id": "82d2b51e",
   "metadata": {},
   "outputs": [
    {
     "name": "stdout",
     "output_type": "stream",
     "text": [
      "root\n",
      " |-- MSISDN: string (nullable = true)\n",
      " |-- CLEAN_MSG: string (nullable = true)\n",
      " |-- TYPE: string (nullable = true)\n",
      " |-- AMOUNT: string (nullable = true)\n",
      " |-- DESCRIPTION: string (nullable = true)\n",
      " |-- BALANCE: string (nullable = true)\n",
      " |-- DATE: string (nullable = true)\n",
      " |-- TIMESTAMP: string (nullable = true)\n",
      " |-- OPERATOR: string (nullable = true)\n",
      " |-- SOURCE_ADDR: string (nullable = true)\n",
      " |-- message_id_internal: string (nullable = true)\n",
      " |-- mobile_operator: string (nullable = true)\n",
      " |-- DAY: integer (nullable = true)\n",
      "\n"
     ]
    }
   ],
   "source": [
    "ner_old.printSchema()"
   ]
  },
  {
   "cell_type": "code",
   "execution_count": 5,
   "id": "a186c92c",
   "metadata": {},
   "outputs": [],
   "source": [
    "debit_df = spark.sql(\"\"\"SELECT new.msisdn as msisdn, \n",
    "    old.SOURCE_ADDR as bank_name,\n",
    "\tcount(new.msisdn) as num_of_outflow,\n",
    "\tsum(try_cast(new.clean_amt as int)) as vol_of_outflow,\n",
    "    new.clean_bal as balance,\n",
    "    new.clean_amt as amount,\n",
    "    old.TIMESTAMP,\n",
    "    old.DATE\n",
    "FROM ner_new as new\n",
    "JOIN ner_old as old\n",
    "ON new.message_id_internal=old.message_id_internal\n",
    "WHERE (\n",
    "\t\tlower(new.clean_type) like '%dr%'\n",
    "\t\tor lower(new.clean_type) like '%debit%'\n",
    "\t)\n",
    "\tand (lower(new.currency) like '%naira%')\n",
    "\tand(\n",
    "\t\tlower(old.SOURCE_ADDR) like '%access%'\n",
    "\t\tor lower(old.SOURCE_ADDR) like '%boi%'\n",
    "\t\tor lower(old.SOURCE_ADDR) like '%citi%'\n",
    "\t\tor lower(old.SOURCE_ADDR) like '%ecobank%'\n",
    "\t\tor lower(old.SOURCE_ADDR) like '%enterprise%'\n",
    "\t\tor lower(old.SOURCE_ADDR) like '%firstbank%'\n",
    "\t\tor lower(old.SOURCE_ADDR) like '%fcmb%'\n",
    "\t\tor lower(old.SOURCE_ADDR) like '%fidelity%'\n",
    "\t\tor lower(old.SOURCE_ADDR) like '%globus%'\n",
    "\t\tor lower(old.SOURCE_ADDR) like '%gtb%'\n",
    "\t\tor lower(old.SOURCE_ADDR) like '%heritage%'\n",
    "\t\tor lower(old.SOURCE_ADDR) like '%jaiz%'\n",
    "\t\tor lower(old.SOURCE_ADDR) like '%keystone%'\n",
    "\t\tor lower(old.SOURCE_ADDR) like '%lotus%'\n",
    "\t\tor lower(old.SOURCE_ADDR) like '%mozfin%'\n",
    "\t\tor lower(old.SOURCE_ADDR) like '%polaris%'\n",
    "\t\tor lower(old.SOURCE_ADDR) like '%providus%'\n",
    "\t\tor lower(old.SOURCE_ADDR) like '%skye%'\n",
    "\t\tor lower(old.SOURCE_ADDR) like '%stanbic%'\n",
    "\t\tor lower(old.SOURCE_ADDR) like '%stanchart%'\n",
    "\t\tor lower(old.SOURCE_ADDR) like '%sterling%'\n",
    "\t\tor lower(old.SOURCE_ADDR) like '%suntrust%'\n",
    "\t\tor lower(old.SOURCE_ADDR) like '%tajbank%'\n",
    "\t\tor lower(old.SOURCE_ADDR) like '%titan%'\n",
    "\t\tor lower(old.SOURCE_ADDR) like '%uba%'\n",
    "\t\tor lower(old.SOURCE_ADDR) like '%union%'\n",
    "\t\tor lower(old.SOURCE_ADDR) like '%unity%'\n",
    "\t\tor lower(old.SOURCE_ADDR) like '%wema%'\n",
    "\t\tor lower(old.SOURCE_ADDR) like '%zenith%'\n",
    "\t)\n",
    "GROUP BY 1,2,5,6,7,8\n",
    "\"\"\")"
   ]
  },
  {
   "cell_type": "code",
   "execution_count": 15,
   "id": "a70d03a8",
   "metadata": {},
   "outputs": [
    {
     "name": "stderr",
     "output_type": "stream",
     "text": [
      "[Stage 25:=====================================================>(299 + 1) / 300]\r"
     ]
    },
    {
     "name": "stdout",
     "output_type": "stream",
     "text": [
      "+--------------------------------+-----------+--------------+--------------+-------------------+------------------------------+\n",
      "|msisdn                          |bank_name  |num_of_outflow|vol_of_outflow|TIMESTAMP          |DATE                          |\n",
      "+--------------------------------+-----------+--------------+--------------+-------------------+------------------------------+\n",
      "|fc0e2e3dc360ef05d4c8ab9e49d231d5|FCMB       |1             |200           |2022-04-06 22:19:57|DT 06/04/22 22                |\n",
      "|704fbfcfe0accc6d9680644132a6865e|FirstBank  |1             |47200         |2022-04-02 10:03:42|                              |\n",
      "|7a3c4709854387f5da67ad17c7abfe25|FirstBank  |2             |14300         |2022-04-16 13:10:35|                              |\n",
      "|88061b579415c85aaa20eb992a106af8|FCMB       |1             |10000         |2022-04-02 11:12:36|DT 02/04/22 11                |\n",
      "|dd643372a2bc31768dd834ce59ca686e|UBA        |1             |200           |2022-04-02 06:21:50|Date 02 Apr 2022              |\n",
      "|7caba8290dccf7ef6f00ce81047ab4be|FirstBank  |3             |9000          |2022-04-01 10:04:13|                              |\n",
      "|89f5b943f6f14cb554a7f27bfc3b87c3|AccessBank |1             |10000         |2022-04-10 12:00:38|10/04/2022 15  Total NGN70,955|\n",
      "|e30aa7ab3eb9d0157d6eea900f300126|ZENITHBANK |1             |50            |2022-04-10 14:45:40|DT 10/04/2022                 |\n",
      "|55e4723fd9838accc7589a6321dfa78c|FirstBank  |1             |1100          |2022-04-15 18:28:50|                              |\n",
      "|31d6069779cffca64949327ba0fd2782|FirstBank  |1             |10000         |2022-04-15 16:49:17|                              |\n",
      "|6346a449ede9316b992bf2a039c9321b|AccessBank |1             |200           |2022-04-10 17:33:07|10/04/2022                    |\n",
      "|f7209a7c7dc510886fe7d237698c317f|AccessBank |1             |650           |2022-04-17 18:15:49|17/04/2022                    |\n",
      "|619195a7438aae528fa0ee776e84f8c4|FirstBank  |1             |100           |2022-04-17 14:54:37|14 54                         |\n",
      "|50f30fced6b87c845c7bc7819f873294|AccessBank |1             |50            |2022-04-16 19:38:41|16/04/2022                    |\n",
      "|ff16064087c6d2b09d88d02a1043489b|FirstBank  |1             |4243          |2022-04-09 13:44:14|                              |\n",
      "|0bb22209b5bdb8b4578cc4558e427fb2|FirstBank  |1             |20000         |2022-04-04 18:28:31|                              |\n",
      "|a965187a90dc64976f62393c77ea84c3|FCMB       |1             |1000          |2022-04-10 21:08:52|DT 10/04/22 21                |\n",
      "|82b929694a7736901ddc2a96d62797a7|PolarisBank|1             |33000         |2022-04-14 14:45:36|                              |\n",
      "|ba9fb67c5233ffd2e9b5f3c2ab1e69f9|FirstBank  |1             |20000         |2022-04-07 18:08:50|                              |\n",
      "|afc058e5a53fcc17c2395d1885979c45|ALATbyWEMA |1             |1050          |2022-04-05 08:48:44|                              |\n",
      "+--------------------------------+-----------+--------------+--------------+-------------------+------------------------------+\n",
      "only showing top 20 rows\n",
      "\n"
     ]
    },
    {
     "name": "stderr",
     "output_type": "stream",
     "text": [
      "                                                                                \r"
     ]
    }
   ],
   "source": [
    "debit_df.show(truncate=False)"
   ]
  },
  {
   "cell_type": "code",
   "execution_count": 20,
   "id": "5dfd284b",
   "metadata": {},
   "outputs": [
    {
     "name": "stderr",
     "output_type": "stream",
     "text": [
      "                                                                                \r"
     ]
    },
    {
     "data": {
      "text/plain": [
       "122197488"
      ]
     },
     "execution_count": 20,
     "metadata": {},
     "output_type": "execute_result"
    }
   ],
   "source": [
    "debit_df.count()"
   ]
  },
  {
   "cell_type": "code",
   "execution_count": 39,
   "id": "9e42b715",
   "metadata": {},
   "outputs": [
    {
     "name": "stderr",
     "output_type": "stream",
     "text": [
      "[Stage 319:====================================================>(149 + 1) / 150]\r"
     ]
    },
    {
     "name": "stdout",
     "output_type": "stream",
     "text": [
      "+--------------------+----------+--------------+--------------+\n",
      "|              msisdn| bank_name|num_of_outflow|vol_of_outflow|\n",
      "+--------------------+----------+--------------+--------------+\n",
      "|7c4ed69775bb8a5c5...|AccessBank|            10|         55052|\n",
      "+--------------------+----------+--------------+--------------+\n",
      "\n"
     ]
    },
    {
     "name": "stderr",
     "output_type": "stream",
     "text": [
      "                                                                                \r"
     ]
    }
   ],
   "source": [
    "debit_df.select('*').where(debit_df.msisdn == '7c4ed69775bb8a5c549bf61f76e3d69e').show(truncate=False)"
   ]
  },
  {
   "cell_type": "code",
   "execution_count": 6,
   "id": "edafe539",
   "metadata": {},
   "outputs": [],
   "source": [
    "credit_df = spark.sql(\"\"\"SELECT new.msisdn as msisdn,\n",
    "    old.SOURCE_ADDR as bank_name,\n",
    "\tcount(new.msisdn) as num_of_inflow,\n",
    "\tsum(try_cast(new.clean_amt as int)) as vol_of_inflow,\n",
    "    new.clean_bal as balance,\n",
    "    new.clean_amt as amount,\n",
    "    old.TIMESTAMP,\n",
    "    old.DATE\n",
    "FROM ner_new as new\n",
    "JOIN ner_old as old\n",
    "ON new.message_id_internal=old.message_id_internal\n",
    "where (\n",
    "\t\tlower(new.clean_type) like '%cr%'\n",
    "\t\tor lower(new.clean_type) like '%credit%'\n",
    "\t)\n",
    "\tand (lower(new.currency) like '%naira%')\n",
    "\tand(\n",
    "\t\tlower(old.SOURCE_ADDR) like '%access%'\n",
    "\t\tor lower(old.SOURCE_ADDR) like '%boi%'\n",
    "\t\tor lower(old.SOURCE_ADDR) like '%citi%'\n",
    "\t\tor lower(old.SOURCE_ADDR) like '%ecobank%'\n",
    "\t\tor lower(old.SOURCE_ADDR) like '%enterprise%'\n",
    "\t\tor lower(old.SOURCE_ADDR) like '%firstbank%'\n",
    "\t\tor lower(old.SOURCE_ADDR) like '%fcmb%'\n",
    "\t\tor lower(old.SOURCE_ADDR) like '%fidelity%'\n",
    "\t\tor lower(old.SOURCE_ADDR) like '%globus%'\n",
    "\t\tor lower(old.SOURCE_ADDR) like '%gtb%'\n",
    "\t\tor lower(old.SOURCE_ADDR) like '%heritage%'\n",
    "\t\tor lower(old.SOURCE_ADDR) like '%jaiz%'\n",
    "\t\tor lower(old.SOURCE_ADDR) like '%keystone%'\n",
    "\t\tor lower(old.SOURCE_ADDR) like '%lotus%'\n",
    "\t\tor lower(old.SOURCE_ADDR) like '%mozfin%'\n",
    "\t\tor lower(old.SOURCE_ADDR) like '%polaris%'\n",
    "\t\tor lower(old.SOURCE_ADDR) like '%providus%'\n",
    "\t\tor lower(old.SOURCE_ADDR) like '%skye%'\n",
    "\t\tor lower(old.SOURCE_ADDR) like '%stanbic%'\n",
    "\t\tor lower(old.SOURCE_ADDR) like '%stanchart%'\n",
    "\t\tor lower(old.SOURCE_ADDR) like '%sterling%'\n",
    "\t\tor lower(old.SOURCE_ADDR) like '%suntrust%'\n",
    "\t\tor lower(old.SOURCE_ADDR) like '%tajbank%'\n",
    "\t\tor lower(old.SOURCE_ADDR) like '%titan%'\n",
    "\t\tor lower(old.SOURCE_ADDR) like '%uba%'\n",
    "\t\tor lower(old.SOURCE_ADDR) like '%union%'\n",
    "\t\tor lower(old.SOURCE_ADDR) like '%unity%'\n",
    "\t\tor lower(old.SOURCE_ADDR) like '%wema%'\n",
    "\t\tor lower(old.SOURCE_ADDR) like '%zenith%'\n",
    "\t)\n",
    "GROUP BY 1,2,5,6,7,8\n",
    "\"\"\")"
   ]
  },
  {
   "cell_type": "code",
   "execution_count": 11,
   "id": "1e59ec5c",
   "metadata": {},
   "outputs": [
    {
     "name": "stderr",
     "output_type": "stream",
     "text": [
      "[Stage 16:====================================================> (294 + 6) / 300]\r"
     ]
    },
    {
     "name": "stdout",
     "output_type": "stream",
     "text": [
      "+--------------------------------+-----------+-------------+-------------+-------------------+---------------+\n",
      "|msisdn                          |bank_name  |num_of_inflow|vol_of_inflow|TIMESTAMP          |DATE           |\n",
      "+--------------------------------+-----------+-------------+-------------+-------------------+---------------+\n",
      "|63dd6118efdf1f4a2cc15964dbc8ff8c|FirstBank  |1            |2000         |2022-04-08 15:11:00|Date  08       |\n",
      "|ccd682a02ff39068dd86e0875b8973ef|FirstBank  |1            |750000       |2022-04-10 16:34:09|               |\n",
      "|9a9ababa9cffeeb846a1b9bcd3cd5a40|AccessBank |1            |10000        |2022-04-05 17:01:54|               |\n",
      "|440954a4fc90bcf7fbc9f552986646a7|AccessBank |1            |2500         |2022-04-14 10:13:56|14/04/2022     |\n",
      "|66f3e61904593097ca01dd40b47b98e3|ZENITHBANK |1            |28000        |2022-04-09 13:41:31|DT 09/04/2022  |\n",
      "|3c0d4e5983cc4497405530681a2d66fc|UNIONBANK  |1            |4000         |2022-04-13 19:41:02|DT  13/APR/2022|\n",
      "|380029039edc3e165e33775717c844a0|FirstBank  |1            |5000         |2022-04-15 14:35:16|35 09 Desc     |\n",
      "|3ead43b16776c9aeaa666ccb5228ff58|FidelitySMS|1            |20000        |2022-04-15 04:01:40|DT 15/APR/22   |\n",
      "|8080ec9d27a9ab85f16ba45c22dcd8b2|ECOBANK    |1            |62700        |2022-04-05 13:13:23|05 Apr 22      |\n",
      "|fbbdb43e4736c20f72c353c6580a21ce|AccessBank |1            |4000         |2022-04-11 14:57:28|11/04/2022     |\n",
      "|e275168b7226b0cfdf428c681509dce8|StanbicIBTC|1            |4500         |2022-04-05 19:56:49|Date 05 04 2022|\n",
      "|916d9c58cf37e38f1e274f1942f09067|AccessBank |1            |170000       |2022-04-20 17:27:18|39  Total      |\n",
      "|f94bed236e02bf747774a103d0400874|FirstBank  |2            |1000         |2022-04-12 13:52:52|               |\n",
      "|d32cf1925a8a631ebe6edfdf39f4a26f|ZENITHBANK |1            |450          |2022-04-14 20:57:44|DT 14/04/2022  |\n",
      "|87c24b29f0e1a1791aac0b1724d7f17b|AccessBank |1            |5100         |2022-04-18 00:03:46|18/04/2022     |\n",
      "|1ae6a6670bb30db74e5f21227887dcf8|ECOBANK    |1            |4000         |2022-04-16 08:25:44|16 Apr 22      |\n",
      "|4c55a69f4f1cbc28fcd3131b5612c180|FidelitySMS|1            |5000         |2022-04-09 17:45:38|DT 09/         |\n",
      "|10d490ab32c71e72d1b7c89de612761b|AccessBank |1            |30000        |2022-04-20 17:44:04|               |\n",
      "|b8d1fc1c6dc0fcd62a8d9f20b5998676|FirstBank  |1            |30000        |2022-04-06 07:11:19|               |\n",
      "|58319269f14374f685889a695af5d2bf|ECOBANK    |1            |10000        |2022-04-09 17:41:21|09 Apr 22      |\n",
      "+--------------------------------+-----------+-------------+-------------+-------------------+---------------+\n",
      "only showing top 20 rows\n",
      "\n"
     ]
    },
    {
     "name": "stderr",
     "output_type": "stream",
     "text": [
      "                                                                                \r"
     ]
    }
   ],
   "source": [
    "credit_df.show(truncate=False)"
   ]
  },
  {
   "cell_type": "code",
   "execution_count": 27,
   "id": "4d83ea08",
   "metadata": {},
   "outputs": [
    {
     "name": "stderr",
     "output_type": "stream",
     "text": [
      "                                                                                \r"
     ]
    },
    {
     "data": {
      "text/plain": [
       "12644104"
      ]
     },
     "execution_count": 27,
     "metadata": {},
     "output_type": "execute_result"
    }
   ],
   "source": [
    "credit_df.count()"
   ]
  },
  {
   "cell_type": "code",
   "execution_count": 8,
   "id": "0f3073a5",
   "metadata": {},
   "outputs": [
    {
     "name": "stderr",
     "output_type": "stream",
     "text": [
      "[Stage 12:=====================================================>(477 + 1) / 478]\r"
     ]
    },
    {
     "name": "stdout",
     "output_type": "stream",
     "text": [
      "+--------------------+----------+-------------+-------------+\n",
      "|              msisdn| bank_name|num_of_inflow|vol_of_inflow|\n",
      "+--------------------+----------+-------------+-------------+\n",
      "|7c4ed69775bb8a5c5...|AccessBank|           13|        78730|\n",
      "+--------------------+----------+-------------+-------------+\n",
      "\n"
     ]
    },
    {
     "name": "stderr",
     "output_type": "stream",
     "text": [
      "                                                                                \r"
     ]
    }
   ],
   "source": [
    "credit_df.select('*').where(credit_df.msisdn == '7c4ed69775bb8a5c549bf61f76e3d69e').show(truncate=False)"
   ]
  },
  {
   "cell_type": "code",
   "execution_count": 26,
   "id": "0f63eefe",
   "metadata": {},
   "outputs": [],
   "source": [
    "# main_df = debit_df.join(credit_df, [debit_df.msisdn == credit_df.msisdn],how='inner')"
   ]
  },
  {
   "cell_type": "code",
   "execution_count": 7,
   "id": "c9cb471c",
   "metadata": {},
   "outputs": [],
   "source": [
    "debit_df.createOrReplaceTempView(\"debit\")\n",
    "credit_df.createOrReplaceTempView(\"credit\")\n",
    "\n",
    "main_df = spark.sql(\"\"\"select distinct d.msisdn,\n",
    "                d.bank_name,\n",
    "                c.num_of_inflow,\n",
    "                c.vol_of_inflow,\n",
    "                d.num_of_outflow,\n",
    "                d.vol_of_outflow,\n",
    "                d.balance,\n",
    "                d.amount,\n",
    "                d.TIMESTAMP\n",
    "               from debit as d\n",
    "               full join credit as c\n",
    "               on d.msisdn = c.msisdn\n",
    "               \"\"\")"
   ]
  },
  {
   "cell_type": "code",
   "execution_count": 10,
   "id": "e06141a0",
   "metadata": {},
   "outputs": [],
   "source": [
    "# main_df.cache()"
   ]
  },
  {
   "cell_type": "code",
   "execution_count": 11,
   "id": "1ab45f65",
   "metadata": {},
   "outputs": [
    {
     "name": "stderr",
     "output_type": "stream",
     "text": [
      "[Stage 32:>                                                         (0 + 1) / 1]\r"
     ]
    },
    {
     "name": "stdout",
     "output_type": "stream",
     "text": [
      "+--------------------------------+-----------+-------------+-------------+--------------+--------------+-------+------+-------------------+\n",
      "|msisdn                          |bank_name  |num_of_inflow|vol_of_inflow|num_of_outflow|vol_of_outflow|balance|amount|TIMESTAMP          |\n",
      "+--------------------------------+-----------+-------------+-------------+--------------+--------------+-------+------+-------------------+\n",
      "|0007e2225038168c4ef68de685a3084a|ZENITHBANK |1            |3700         |1             |10            |5484   |10    |2022-04-19 21:41:32|\n",
      "|0007e2225038168c4ef68de685a3084a|ZENITHBANK |2            |5800         |2             |12            |29     |6     |2022-04-12 17:47:29|\n",
      "|null                            |null       |1            |53300        |null          |null          |null   |null  |null               |\n",
      "|002402ef026274a50e1fcad8fde6e4fd|AccessBank |1            |2000         |1             |400           |600    |400   |2022-04-18 11:51:16|\n",
      "|00255007e3eb2e9ed776089adedf9015|FirstBank  |null         |null         |1             |342           |11480  |342   |2022-04-07 17:48:44|\n",
      "|003079295ab65f8e7ad3782ecd24e229|AccessBank |1            |null         |1             |4000          |12204  |4000  |2022-04-15 10:20:41|\n",
      "|003937f1351d3da21518a38353a56bde|AccessBank |1            |6000         |1             |500           |6514   |500   |2022-04-10 23:33:45|\n",
      "|00628c05dbbb2e784fec2d90b2d7552c|AccessBank |1            |64480        |1             |10000         |136543 |10000 |2022-04-16 08:55:57|\n",
      "|00628c05dbbb2e784fec2d90b2d7552c|AccessBank |1            |64480        |1             |1050          |178877 |1050  |2022-04-05 17:58:03|\n",
      "|00a6ebab9e0f67a12fad3913801c6f64|FCMB       |null         |null         |1             |5037          |14852  |5037  |2022-04-19 09:22:30|\n",
      "|00b241760322daa8dbfd43b882a381c7|ZENITHBANK |1            |37500        |1             |36504         |357    |36504 |2022-04-07 13:40:28|\n",
      "|00ce2004d181047b6e94152179c1e299|ZENITHBANK |1            |50000        |1             |10            |1536   |10    |2022-04-15 14:35:47|\n",
      "|00e1f61bfb6c956a08df67c1a8ce2524|UNIONBANK  |1            |2000         |1             |2000          |1001   |2000  |2022-04-08 20:18:37|\n",
      "|00e7b748cc0cb70a25ca5d54321ab29a|AccessBank |1            |5000         |2             |106           |3024   |53    |2022-04-12 08:01:50|\n",
      "|00fedd73b02edcd009cfc2448b2f73b7|FCMB       |null         |null         |3             |21000         |652092 |7000  |2022-04-01 16:51:54|\n",
      "|0115f563ae5141ec11cadca85685879c|UNIONBANK  |1            |300000       |1             |50000         |280979 |50000 |2022-04-17 12:38:09|\n",
      "|012bb28be2c0006c2b5821136b8fd3ec|StanbicIBTC|1            |5000         |1             |10000         |10762  |10000 |2022-04-06 06:55:36|\n",
      "|012bb28be2c0006c2b5821136b8fd3ec|StanbicIBTC|3            |63000        |1             |10000         |4267   |10000 |2022-04-17 18:29:25|\n",
      "|015f552a97938919d578199c77e93c0f|FirstBank  |1            |7000         |1             |100           |       |100   |2022-04-08 14:38:05|\n",
      "|018253fb249cd275757df0f0f748b3ca|AccessBank |2            |27000        |1             |40000         |45953  |40000 |2022-04-08 17:24:32|\n",
      "+--------------------------------+-----------+-------------+-------------+--------------+--------------+-------+------+-------------------+\n",
      "only showing top 20 rows\n",
      "\n"
     ]
    },
    {
     "name": "stderr",
     "output_type": "stream",
     "text": [
      "                                                                                \r"
     ]
    }
   ],
   "source": [
    "main_df.show(truncate=False)"
   ]
  },
  {
   "cell_type": "code",
   "execution_count": 31,
   "id": "acd71801",
   "metadata": {},
   "outputs": [
    {
     "name": "stderr",
     "output_type": "stream",
     "text": [
      "                                                                                \r"
     ]
    },
    {
     "data": {
      "text/plain": [
       "13786355"
      ]
     },
     "execution_count": 31,
     "metadata": {},
     "output_type": "execute_result"
    }
   ],
   "source": [
    "main_df.count()"
   ]
  },
  {
   "cell_type": "code",
   "execution_count": 8,
   "id": "fa4c234d",
   "metadata": {},
   "outputs": [],
   "source": [
    "main_df = main_df.withColumn(\"date_new\", to_timestamp(\"TIMESTAMP\"))"
   ]
  },
  {
   "cell_type": "code",
   "execution_count": 10,
   "id": "570f76f8",
   "metadata": {},
   "outputs": [
    {
     "name": "stdout",
     "output_type": "stream",
     "text": [
      "root\n",
      " |-- msisdn: string (nullable = true)\n",
      " |-- bank_name: string (nullable = true)\n",
      " |-- num_of_inflow: long (nullable = true)\n",
      " |-- vol_of_inflow: long (nullable = true)\n",
      " |-- num_of_outflow: long (nullable = true)\n",
      " |-- vol_of_outflow: long (nullable = true)\n",
      " |-- balance: string (nullable = true)\n",
      " |-- amount: string (nullable = true)\n",
      " |-- TIMESTAMP: string (nullable = true)\n",
      " |-- date_new: timestamp (nullable = true)\n",
      "\n"
     ]
    }
   ],
   "source": [
    "main_df.printSchema()"
   ]
  },
  {
   "cell_type": "code",
   "execution_count": 9,
   "id": "455148a5",
   "metadata": {},
   "outputs": [],
   "source": [
    "main_df = main_df.select(['msisdn','bank_name','num_of_inflow','num_of_outflow'\n",
    "                         ,'vol_of_inflow','vol_of_outflow','balance','TIMESTAMP','date_new'])"
   ]
  },
  {
   "cell_type": "code",
   "execution_count": 41,
   "id": "233c8bd4",
   "metadata": {},
   "outputs": [
    {
     "name": "stderr",
     "output_type": "stream",
     "text": [
      "[Stage 234:>                                                        (0 + 1) / 1]]\r"
     ]
    },
    {
     "name": "stdout",
     "output_type": "stream",
     "text": [
      "+--------------------------------+-----------+-------------+--------------+-------------+--------------+-------+\n",
      "|msisdn                          |bank_name  |num_of_inflow|num_of_outflow|vol_of_inflow|vol_of_outflow|balance|\n",
      "+--------------------------------+-----------+-------------+--------------+-------------+--------------+-------+\n",
      "|0007e2225038168c4ef68de685a3084a|ZENITHBANK |1            |1             |3700         |10            |5484   |\n",
      "|0007e2225038168c4ef68de685a3084a|ZENITHBANK |2            |2             |5800         |12            |29     |\n",
      "|null                            |null       |1            |null          |53300        |null          |null   |\n",
      "|002402ef026274a50e1fcad8fde6e4fd|AccessBank |1            |1             |2000         |400           |600    |\n",
      "|00255007e3eb2e9ed776089adedf9015|FirstBank  |null         |1             |null         |342           |11480  |\n",
      "|003079295ab65f8e7ad3782ecd24e229|AccessBank |1            |1             |null         |4000          |12204  |\n",
      "|003937f1351d3da21518a38353a56bde|AccessBank |1            |1             |6000         |500           |6514   |\n",
      "|00628c05dbbb2e784fec2d90b2d7552c|AccessBank |1            |1             |64480        |10000         |136543 |\n",
      "|00628c05dbbb2e784fec2d90b2d7552c|AccessBank |1            |1             |64480        |1050          |178877 |\n",
      "|00a6ebab9e0f67a12fad3913801c6f64|FCMB       |null         |1             |null         |5037          |14852  |\n",
      "|00b241760322daa8dbfd43b882a381c7|ZENITHBANK |1            |1             |37500        |36504         |357    |\n",
      "|00ce2004d181047b6e94152179c1e299|ZENITHBANK |1            |1             |50000        |10            |1536   |\n",
      "|00e1f61bfb6c956a08df67c1a8ce2524|UNIONBANK  |1            |1             |2000         |2000          |1001   |\n",
      "|00e7b748cc0cb70a25ca5d54321ab29a|AccessBank |1            |2             |5000         |106           |3024   |\n",
      "|00fedd73b02edcd009cfc2448b2f73b7|FCMB       |null         |3             |null         |21000         |652092 |\n",
      "|0115f563ae5141ec11cadca85685879c|UNIONBANK  |1            |1             |300000       |50000         |280979 |\n",
      "|012bb28be2c0006c2b5821136b8fd3ec|StanbicIBTC|1            |1             |5000         |10000         |10762  |\n",
      "|012bb28be2c0006c2b5821136b8fd3ec|StanbicIBTC|3            |1             |63000        |10000         |4267   |\n",
      "|015f552a97938919d578199c77e93c0f|FirstBank  |1            |1             |7000         |100           |       |\n",
      "|018253fb249cd275757df0f0f748b3ca|AccessBank |2            |1             |27000        |40000         |45953  |\n",
      "+--------------------------------+-----------+-------------+--------------+-------------+--------------+-------+\n",
      "only showing top 20 rows\n",
      "\n"
     ]
    },
    {
     "name": "stderr",
     "output_type": "stream",
     "text": [
      "                                                                                \r"
     ]
    }
   ],
   "source": [
    "main_df.show(truncate=False)"
   ]
  },
  {
   "cell_type": "code",
   "execution_count": 10,
   "id": "a367cc78",
   "metadata": {},
   "outputs": [],
   "source": [
    "array_df = main_df.groupBy(\"msisdn\").agg(collect_set(\"bank_name\").alias(\"banks\"))"
   ]
  },
  {
   "cell_type": "code",
   "execution_count": 11,
   "id": "04bb7a21",
   "metadata": {},
   "outputs": [
    {
     "name": "stderr",
     "output_type": "stream",
     "text": [
      "[Stage 23:======================================================>(99 + 1) / 100]\r"
     ]
    },
    {
     "name": "stdout",
     "output_type": "stream",
     "text": [
      "+--------------------+--------------------+\n",
      "|              msisdn|               banks|\n",
      "+--------------------+--------------------+\n",
      "|0000005e09b3eff4a...|        [ZENITHBANK]|\n",
      "|000014f8fb1703fb0...|[FirstBank, Acces...|\n",
      "|0000257abe559c486...|               [UBA]|\n",
      "|00002838cae0ffea3...|[FirstBank, UNION...|\n",
      "|000051ec903915936...|         [FirstBank]|\n",
      "|00007fe01883afd15...|         [FirstBank]|\n",
      "|0000980e2a2f0a0f4...|        [AccessBank]|\n",
      "|0000a06bd06440b2f...|         [FirstBank]|\n",
      "|00016529698c41a48...|              [FCMB]|\n",
      "|0001e11f495e7e91b...| [FidelitySMS, FCMB]|\n",
      "|00022c338f7db62a2...|        [AccessBank]|\n",
      "|00023f6ec959fbed6...|[StanbicIBTC, ZEN...|\n",
      "|00026243deef0def5...|       [PolarisBank]|\n",
      "|000272b7f360e5a38...|              [FCMB]|\n",
      "|000311d29cbaba7b0...|        [AccessBank]|\n",
      "|000319437f7598bd0...|[WemaBank, UNIONB...|\n",
      "|00032253c45a4aa0d...|        [AccessBank]|\n",
      "|00036fde0cb1167d8...|         [FirstBank]|\n",
      "|000394a6a85d67596...|        [AccessBank]|\n",
      "|0003da3cb126a0863...|         [FirstBank]|\n",
      "+--------------------+--------------------+\n",
      "only showing top 20 rows\n",
      "\n"
     ]
    },
    {
     "name": "stderr",
     "output_type": "stream",
     "text": [
      "                                                                                \r"
     ]
    }
   ],
   "source": [
    "array_df.show()"
   ]
  },
  {
   "cell_type": "code",
   "execution_count": 13,
   "id": "2c0546fa",
   "metadata": {},
   "outputs": [],
   "source": [
    "main_df = main_df.join(array_df, [main_df.msisdn == array_df.msisdn],how='inner')"
   ]
  },
  {
   "cell_type": "code",
   "execution_count": 14,
   "id": "64962c39",
   "metadata": {},
   "outputs": [
    {
     "name": "stderr",
     "output_type": "stream",
     "text": [
      "[Stage 62:>                                                         (0 + 1) / 1]\r"
     ]
    },
    {
     "name": "stdout",
     "output_type": "stream",
     "text": [
      "+--------------------+---------+-------------+--------------+-------------+--------------+-------+-------------------+-------------------+--------------------+--------------------+\n",
      "|              msisdn|bank_name|num_of_inflow|num_of_outflow|vol_of_inflow|vol_of_outflow|balance|          TIMESTAMP|           date_new|              msisdn|               banks|\n",
      "+--------------------+---------+-------------+--------------+-------------+--------------+-------+-------------------+-------------------+--------------------+--------------------+\n",
      "|000014f8fb1703fb0...|FirstBank|            2|             1|        40000|          2250| 246074|2022-04-11 21:43:07|2022-04-11 21:43:07|000014f8fb1703fb0...|[FirstBank, Acces...|\n",
      "|000014f8fb1703fb0...|FirstBank|            2|             1|          200|          2250| 246074|2022-04-11 21:43:07|2022-04-11 21:43:07|000014f8fb1703fb0...|[FirstBank, Acces...|\n",
      "|000014f8fb1703fb0...|FirstBank|            2|             1|        40000|          2000| 313674|2022-04-15 12:09:56|2022-04-15 12:09:56|000014f8fb1703fb0...|[FirstBank, Acces...|\n",
      "|000014f8fb1703fb0...|FirstBank|            2|             1|          200|          2000| 313674|2022-04-15 12:09:56|2022-04-15 12:09:56|000014f8fb1703fb0...|[FirstBank, Acces...|\n",
      "|000014f8fb1703fb0...|FirstBank|            2|             1|        40000|          1710| 200250|2022-04-05 08:38:31|2022-04-05 08:38:31|000014f8fb1703fb0...|[FirstBank, Acces...|\n",
      "|000014f8fb1703fb0...|FirstBank|            2|             1|          200|          1710| 200250|2022-04-05 08:38:31|2022-04-05 08:38:31|000014f8fb1703fb0...|[FirstBank, Acces...|\n",
      "|000014f8fb1703fb0...|FirstBank|            2|             1|        40000|          5100| 315924|2022-04-14 20:08:50|2022-04-14 20:08:50|000014f8fb1703fb0...|[FirstBank, Acces...|\n",
      "|000014f8fb1703fb0...|FirstBank|            2|             1|          200|          5100| 315924|2022-04-14 20:08:50|2022-04-14 20:08:50|000014f8fb1703fb0...|[FirstBank, Acces...|\n",
      "|000014f8fb1703fb0...|FirstBank|            2|             1|        40000|          2000| 201960|2022-04-04 14:39:33|2022-04-04 14:39:33|000014f8fb1703fb0...|[FirstBank, Acces...|\n",
      "|000014f8fb1703fb0...|FirstBank|            2|             1|          200|          2000| 201960|2022-04-04 14:39:33|2022-04-04 14:39:33|000014f8fb1703fb0...|[FirstBank, Acces...|\n",
      "|000014f8fb1703fb0...|FirstBank|            2|             1|        40000|          3400| 310274|2022-04-15 14:21:33|2022-04-15 14:21:33|000014f8fb1703fb0...|[FirstBank, Acces...|\n",
      "|000014f8fb1703fb0...|FirstBank|            2|             1|          200|          3400| 310274|2022-04-15 14:21:33|2022-04-15 14:21:33|000014f8fb1703fb0...|[FirstBank, Acces...|\n",
      "|000014f8fb1703fb0...|FirstBank|            2|             1|        40000|          5100| 190150|2022-04-07 12:28:14|2022-04-07 12:28:14|000014f8fb1703fb0...|[FirstBank, Acces...|\n",
      "|000014f8fb1703fb0...|FirstBank|            2|             1|          200|          5100| 190150|2022-04-07 12:28:14|2022-04-07 12:28:14|000014f8fb1703fb0...|[FirstBank, Acces...|\n",
      "|000014f8fb1703fb0...|FirstBank|            2|             1|        40000|           200| 315674|2022-04-15 08:33:18|2022-04-15 08:33:18|000014f8fb1703fb0...|[FirstBank, Acces...|\n",
      "|000014f8fb1703fb0...|FirstBank|            2|             1|          200|           200| 315674|2022-04-15 08:33:18|2022-04-15 08:33:18|000014f8fb1703fb0...|[FirstBank, Acces...|\n",
      "|000014f8fb1703fb0...|FirstBank|            2|             1|        40000|          5000| 127021|2022-04-02 00:44:47|2022-04-02 00:44:47|000014f8fb1703fb0...|[FirstBank, Acces...|\n",
      "|000014f8fb1703fb0...|FirstBank|            2|             1|          200|          5000| 127021|2022-04-02 00:44:47|2022-04-02 00:44:47|000014f8fb1703fb0...|[FirstBank, Acces...|\n",
      "|000014f8fb1703fb0...|FirstBank|            2|             1|        40000|           100| 175424|2022-04-11 11:01:04|2022-04-11 11:01:04|000014f8fb1703fb0...|[FirstBank, Acces...|\n",
      "|000014f8fb1703fb0...|FirstBank|            2|             1|          200|           100| 175424|2022-04-11 11:01:04|2022-04-11 11:01:04|000014f8fb1703fb0...|[FirstBank, Acces...|\n",
      "+--------------------+---------+-------------+--------------+-------------+--------------+-------+-------------------+-------------------+--------------------+--------------------+\n",
      "only showing top 20 rows\n",
      "\n"
     ]
    },
    {
     "name": "stderr",
     "output_type": "stream",
     "text": [
      "                                                                                \r"
     ]
    }
   ],
   "source": [
    "main_df.show()"
   ]
  },
  {
   "cell_type": "code",
   "execution_count": null,
   "id": "c6b22c7c",
   "metadata": {},
   "outputs": [],
   "source": [
    "num_banks = main_df.select(size($\"banks\").as(\"num_of_banks\")) "
   ]
  },
  {
   "cell_type": "code",
   "execution_count": 12,
   "id": "d6b2da12",
   "metadata": {},
   "outputs": [
    {
     "ename": "AnalysisException",
     "evalue": "Undefined function: len. This function is neither a built-in/temporary function, nor a persistent function that is qualified as spark_catalog.default.len.; line 1 pos 50",
     "output_type": "error",
     "traceback": [
      "\u001b[0;31m---------------------------------------------------------------------------\u001b[0m",
      "\u001b[0;31mAnalysisException\u001b[0m                         Traceback (most recent call last)",
      "\u001b[0;32m/tmp/ipykernel_18059/3447022907.py\u001b[0m in \u001b[0;36m<module>\u001b[0;34m\u001b[0m\n\u001b[1;32m     21\u001b[0m                         \u001b[0mlen\u001b[0m\u001b[0;34m(\u001b[0m\u001b[0mf\u001b[0m\u001b[0;34m.\u001b[0m\u001b[0mbanks\u001b[0m\u001b[0;34m)\u001b[0m \u001b[0;32mas\u001b[0m \u001b[0mnum_banks\u001b[0m\u001b[0;31m\\\u001b[0m\u001b[0;34m\u001b[0m\u001b[0;34m\u001b[0m\u001b[0m\n\u001b[1;32m     22\u001b[0m                     \u001b[0;32mfrom\u001b[0m \u001b[0mnum_bank\u001b[0m \u001b[0mf\u001b[0m\u001b[0;31m\\\u001b[0m\u001b[0;34m\u001b[0m\u001b[0;34m\u001b[0m\u001b[0m\n\u001b[0;32m---> 23\u001b[0;31m                     group by 1\")\n\u001b[0m",
      "\u001b[0;32m~/SageMaker/custom-miniconda/miniconda/envs/custom_python/lib/python3.7/site-packages/pyspark/sql/session.py\u001b[0m in \u001b[0;36msql\u001b[0;34m(self, sqlQuery, **kwargs)\u001b[0m\n\u001b[1;32m   1032\u001b[0m             \u001b[0msqlQuery\u001b[0m \u001b[0;34m=\u001b[0m \u001b[0mformatter\u001b[0m\u001b[0;34m.\u001b[0m\u001b[0mformat\u001b[0m\u001b[0;34m(\u001b[0m\u001b[0msqlQuery\u001b[0m\u001b[0;34m,\u001b[0m \u001b[0;34m**\u001b[0m\u001b[0mkwargs\u001b[0m\u001b[0;34m)\u001b[0m\u001b[0;34m\u001b[0m\u001b[0;34m\u001b[0m\u001b[0m\n\u001b[1;32m   1033\u001b[0m         \u001b[0;32mtry\u001b[0m\u001b[0;34m:\u001b[0m\u001b[0;34m\u001b[0m\u001b[0;34m\u001b[0m\u001b[0m\n\u001b[0;32m-> 1034\u001b[0;31m             \u001b[0;32mreturn\u001b[0m \u001b[0mDataFrame\u001b[0m\u001b[0;34m(\u001b[0m\u001b[0mself\u001b[0m\u001b[0;34m.\u001b[0m\u001b[0m_jsparkSession\u001b[0m\u001b[0;34m.\u001b[0m\u001b[0msql\u001b[0m\u001b[0;34m(\u001b[0m\u001b[0msqlQuery\u001b[0m\u001b[0;34m)\u001b[0m\u001b[0;34m,\u001b[0m \u001b[0mself\u001b[0m\u001b[0;34m)\u001b[0m\u001b[0;34m\u001b[0m\u001b[0;34m\u001b[0m\u001b[0m\n\u001b[0m\u001b[1;32m   1035\u001b[0m         \u001b[0;32mfinally\u001b[0m\u001b[0;34m:\u001b[0m\u001b[0;34m\u001b[0m\u001b[0;34m\u001b[0m\u001b[0m\n\u001b[1;32m   1036\u001b[0m             \u001b[0;32mif\u001b[0m \u001b[0mlen\u001b[0m\u001b[0;34m(\u001b[0m\u001b[0mkwargs\u001b[0m\u001b[0;34m)\u001b[0m \u001b[0;34m>\u001b[0m \u001b[0;36m0\u001b[0m\u001b[0;34m:\u001b[0m\u001b[0;34m\u001b[0m\u001b[0;34m\u001b[0m\u001b[0m\n",
      "\u001b[0;32m~/SageMaker/custom-miniconda/miniconda/envs/custom_python/lib/python3.7/site-packages/py4j/java_gateway.py\u001b[0m in \u001b[0;36m__call__\u001b[0;34m(self, *args)\u001b[0m\n\u001b[1;32m   1320\u001b[0m         \u001b[0manswer\u001b[0m \u001b[0;34m=\u001b[0m \u001b[0mself\u001b[0m\u001b[0;34m.\u001b[0m\u001b[0mgateway_client\u001b[0m\u001b[0;34m.\u001b[0m\u001b[0msend_command\u001b[0m\u001b[0;34m(\u001b[0m\u001b[0mcommand\u001b[0m\u001b[0;34m)\u001b[0m\u001b[0;34m\u001b[0m\u001b[0;34m\u001b[0m\u001b[0m\n\u001b[1;32m   1321\u001b[0m         return_value = get_return_value(\n\u001b[0;32m-> 1322\u001b[0;31m             answer, self.gateway_client, self.target_id, self.name)\n\u001b[0m\u001b[1;32m   1323\u001b[0m \u001b[0;34m\u001b[0m\u001b[0m\n\u001b[1;32m   1324\u001b[0m         \u001b[0;32mfor\u001b[0m \u001b[0mtemp_arg\u001b[0m \u001b[0;32min\u001b[0m \u001b[0mtemp_args\u001b[0m\u001b[0;34m:\u001b[0m\u001b[0;34m\u001b[0m\u001b[0;34m\u001b[0m\u001b[0m\n",
      "\u001b[0;32m~/SageMaker/custom-miniconda/miniconda/envs/custom_python/lib/python3.7/site-packages/pyspark/sql/utils.py\u001b[0m in \u001b[0;36mdeco\u001b[0;34m(*a, **kw)\u001b[0m\n\u001b[1;32m    194\u001b[0m                 \u001b[0;31m# Hide where the exception came from that shows a non-Pythonic\u001b[0m\u001b[0;34m\u001b[0m\u001b[0;34m\u001b[0m\u001b[0;34m\u001b[0m\u001b[0m\n\u001b[1;32m    195\u001b[0m                 \u001b[0;31m# JVM exception message.\u001b[0m\u001b[0;34m\u001b[0m\u001b[0;34m\u001b[0m\u001b[0;34m\u001b[0m\u001b[0m\n\u001b[0;32m--> 196\u001b[0;31m                 \u001b[0;32mraise\u001b[0m \u001b[0mconverted\u001b[0m \u001b[0;32mfrom\u001b[0m \u001b[0;32mNone\u001b[0m\u001b[0;34m\u001b[0m\u001b[0;34m\u001b[0m\u001b[0m\n\u001b[0m\u001b[1;32m    197\u001b[0m             \u001b[0;32melse\u001b[0m\u001b[0;34m:\u001b[0m\u001b[0;34m\u001b[0m\u001b[0;34m\u001b[0m\u001b[0m\n\u001b[1;32m    198\u001b[0m                 \u001b[0;32mraise\u001b[0m\u001b[0;34m\u001b[0m\u001b[0;34m\u001b[0m\u001b[0m\n",
      "\u001b[0;31mAnalysisException\u001b[0m: Undefined function: len. This function is neither a built-in/temporary function, nor a persistent function that is qualified as spark_catalog.default.len.; line 1 pos 50"
     ]
    }
   ],
   "source": [
    "main_df.createOrReplaceTempView(\"final\")\n",
    "\n",
    "\n",
    "# array_df = spark.sql(\"select distinct f.MSISDN as msisdn,\\\n",
    "#                         f.bank_name,\\\n",
    "#                         array_agg(collect_set(f.bank_name)) AS banks\\\n",
    "#                     from final f\\\n",
    "#                     where length(balance) >= 1\\\n",
    "#                     group by 1,2\")\n",
    "closing_bal = spark.sql(\"select f.MSISDN as msisdn,\\\n",
    "                        f.date_new,\\\n",
    "                        f.balance as closing_balance,\\\n",
    "                        max(cast(TIMESTAMP as timestamp)) closing_date\\\n",
    "                    from final f\\\n",
    "                    where length(balance) >= 1\\\n",
    "                    group by 1,2,3\\\n",
    "                    having f.date_new == max(cast(TIMESTAMP as timestamp))\")\n",
    "\n",
    "array_df.createOrReplaceTempView(\"num_bank\")\n",
    "num_banks = spark.sql(\"select f.MSISDN as msisdn,\\\n",
    "                        len(f.banks) as num_banks\\\n",
    "                    from num_bank f\\\n",
    "                    group by 1\")"
   ]
  },
  {
   "cell_type": "code",
   "execution_count": 44,
   "id": "2b6b7d51",
   "metadata": {},
   "outputs": [
    {
     "name": "stdout",
     "output_type": "stream",
     "text": [
      "root\n",
      " |-- msisdn: string (nullable = true)\n",
      " |-- bank_name: string (nullable = true)\n",
      " |-- num_banks: long (nullable = false)\n",
      "\n"
     ]
    }
   ],
   "source": [
    "num_banks.printSchema()"
   ]
  },
  {
   "cell_type": "code",
   "execution_count": 20,
   "id": "99ea5d8a",
   "metadata": {},
   "outputs": [],
   "source": [
    "#  array_agg(f.bank_name) AS banks\\\n",
    "# array_distinct(collect_list(f.bank_name)) AS banks\\"
   ]
  },
  {
   "cell_type": "code",
   "execution_count": 45,
   "id": "265e38ff",
   "metadata": {},
   "outputs": [
    {
     "name": "stderr",
     "output_type": "stream",
     "text": [
      "[Stage 386:>                                                        (0 + 1) / 1]]\r"
     ]
    },
    {
     "name": "stdout",
     "output_type": "stream",
     "text": [
      "+--------------------------------+-----------+------------------------------------------------------------------------------------------------------------------------------------------------------------------------------------------------------------------------------------------------------------------------------------------------------------------------------------------------------------------------------------------------------------------------------------------------------------------------------------------------------------------------------------------------------------------------------------------------------------------------------------------------------------------------------------------------------------------------------------------------------------------------------------------------------------------------------------------------------------------------------------------------------------------------------------------------------------------------------------------------------------------------------------------------------------------------------------------------------------------------------------------------------------------------------------------------------------------------------------------------------------------------------------------------------------------------------------------------------------------------------------------------------------------------------------------------------------------------------------------------------------------------------------------------------------------------------------------------------------------------------------------------------------------------------------------------------------------------------------------------------------------------------------------------------------------------------------------------------------------------------------------------------------------------------------------------------------------------------------------------------------------------------------------------------------------------------------------------------------------------------------------------------------------------------------------------------------------------------------------------------------------------------------------------------------------------------------------------------------------------------------------------------------------------------------------------------------------------------------------------------------------------------------------------------------------------------------------------------------------------------------------------------------------------------------------------------------------------------------------------------------------------------------------------------------------------------------------------------------------------------------------------------------------------------------------------------------------------------------------------------------------------------------------------------------------------------------------------------------------------------------------------------------------------------------------------------------------------------------------------------------------------------------------------------------------------------------------------------------------------------------------------------------------------------------------------+\n",
      "|msisdn                          |bank_name  |banks                                                                                                                                                                                                                                                                                                                                                                                                                                                                                                                                                                                                                                                                                                                                                                                                                                                                                                                                                                                                                                                                                                                                                                                                                                                                                                                                                                                                                                                                                                                                                                                                                                                                                                                                                                                                                                                                                                                                                                                                                                                                                                                                                                                                                                                                                                                                                                                                                                                                                                                                                                                                                                                                                                                                                                                                                                                                                                                                                                                                                                                                                                                                                                                                                                                                                                                                                                                                                                           |\n",
      "+--------------------------------+-----------+------------------------------------------------------------------------------------------------------------------------------------------------------------------------------------------------------------------------------------------------------------------------------------------------------------------------------------------------------------------------------------------------------------------------------------------------------------------------------------------------------------------------------------------------------------------------------------------------------------------------------------------------------------------------------------------------------------------------------------------------------------------------------------------------------------------------------------------------------------------------------------------------------------------------------------------------------------------------------------------------------------------------------------------------------------------------------------------------------------------------------------------------------------------------------------------------------------------------------------------------------------------------------------------------------------------------------------------------------------------------------------------------------------------------------------------------------------------------------------------------------------------------------------------------------------------------------------------------------------------------------------------------------------------------------------------------------------------------------------------------------------------------------------------------------------------------------------------------------------------------------------------------------------------------------------------------------------------------------------------------------------------------------------------------------------------------------------------------------------------------------------------------------------------------------------------------------------------------------------------------------------------------------------------------------------------------------------------------------------------------------------------------------------------------------------------------------------------------------------------------------------------------------------------------------------------------------------------------------------------------------------------------------------------------------------------------------------------------------------------------------------------------------------------------------------------------------------------------------------------------------------------------------------------------------------------------------------------------------------------------------------------------------------------------------------------------------------------------------------------------------------------------------------------------------------------------------------------------------------------------------------------------------------------------------------------------------------------------------------------------------------------------------------------------------------------------+\n",
      "|000014f8fb1703fb0d28965fe80defd8|AccessBank |[AccessBank, AccessBank, AccessBank, AccessBank]                                                                                                                                                                                                                                                                                                                                                                                                                                                                                                                                                                                                                                                                                                                                                                                                                                                                                                                                                                                                                                                                                                                                                                                                                                                                                                                                                                                                                                                                                                                                                                                                                                                                                                                                                                                                                                                                                                                                                                                                                                                                                                                                                                                                                                                                                                                                                                                                                                                                                                                                                                                                                                                                                                                                                                                                                                                                                                                                                                                                                                                                                                                                                                                                                                                                                                                                                                                                |\n",
      "|000014f8fb1703fb0d28965fe80defd8|FirstBank  |[FirstBank, FirstBank, FirstBank, FirstBank, FirstBank, FirstBank, FirstBank, FirstBank, FirstBank, FirstBank, FirstBank, FirstBank, FirstBank, FirstBank, FirstBank, FirstBank, FirstBank, FirstBank, FirstBank, FirstBank, FirstBank, FirstBank]                                                                                                                                                                                                                                                                                                                                                                                                                                                                                                                                                                                                                                                                                                                                                                                                                                                                                                                                                                                                                                                                                                                                                                                                                                                                                                                                                                                                                                                                                                                                                                                                                                                                                                                                                                                                                                                                                                                                                                                                                                                                                                                                                                                                                                                                                                                                                                                                                                                                                                                                                                                                                                                                                                                                                                                                                                                                                                                                                                                                                                                                                                                                                                                              |\n",
      "|00002838cae0ffea35db30bad5d5bd05|FirstBank  |[FirstBank, FirstBank, FirstBank]                                                                                                                                                                                                                                                                                                                                                                                                                                                                                                                                                                                                                                                                                                                                                                                                                                                                                                                                                                                                                                                                                                                                                                                                                                                                                                                                                                                                                                                                                                                                                                                                                                                                                                                                                                                                                                                                                                                                                                                                                                                                                                                                                                                                                                                                                                                                                                                                                                                                                                                                                                                                                                                                                                                                                                                                                                                                                                                                                                                                                                                                                                                                                                                                                                                                                                                                                                                                               |\n",
      "|00002838cae0ffea35db30bad5d5bd05|UNIONBANK  |[UNIONBANK, UNIONBANK, UNIONBANK, UNIONBANK, UNIONBANK]                                                                                                                                                                                                                                                                                                                                                                                                                                                                                                                                                                                                                                                                                                                                                                                                                                                                                                                                                                                                                                                                                                                                                                                                                                                                                                                                                                                                                                                                                                                                                                                                                                                                                                                                                                                                                                                                                                                                                                                                                                                                                                                                                                                                                                                                                                                                                                                                                                                                                                                                                                                                                                                                                                                                                                                                                                                                                                                                                                                                                                                                                                                                                                                                                                                                                                                                                                                         |\n",
      "|000272b7f360e5a383f02ed9abc4dff9|FCMB       |[FCMB, FCMB, FCMB, FCMB, FCMB, FCMB, FCMB, FCMB, FCMB, FCMB]                                                                                                                                                                                                                                                                                                                                                                                                                                                                                                                                                                                                                                                                                                                                                                                                                                                                                                                                                                                                                                                                                                                                                                                                                                                                                                                                                                                                                                                                                                                                                                                                                                                                                                                                                                                                                                                                                                                                                                                                                                                                                                                                                                                                                                                                                                                                                                                                                                                                                                                                                                                                                                                                                                                                                                                                                                                                                                                                                                                                                                                                                                                                                                                                                                                                                                                                                                                    |\n",
      "|000463d699205591b80cdad4fb181c0a|FirstBank  |[FirstBank, FirstBank, FirstBank, FirstBank]                                                                                                                                                                                                                                                                                                                                                                                                                                                                                                                                                                                                                                                                                                                                                                                                                                                                                                                                                                                                                                                                                                                                                                                                                                                                                                                                                                                                                                                                                                                                                                                                                                                                                                                                                                                                                                                                                                                                                                                                                                                                                                                                                                                                                                                                                                                                                                                                                                                                                                                                                                                                                                                                                                                                                                                                                                                                                                                                                                                                                                                                                                                                                                                                                                                                                                                                                                                                    |\n",
      "|00048e26d539e3754f25d247890a4765|ECOBANK    |[ECOBANK, ECOBANK, ECOBANK]                                                                                                                                                                                                                                                                                                                                                                                                                                                                                                                                                                                                                                                                                                                                                                                                                                                                                                                                                                                                                                                                                                                                                                                                                                                                                                                                                                                                                                                                                                                                                                                                                                                                                                                                                                                                                                                                                                                                                                                                                                                                                                                                                                                                                                                                                                                                                                                                                                                                                                                                                                                                                                                                                                                                                                                                                                                                                                                                                                                                                                                                                                                                                                                                                                                                                                                                                                                                                     |\n",
      "|000511116b5ada018b30278370865a13|AccessBank |[AccessBank, AccessBank, AccessBank, AccessBank]                                                                                                                                                                                                                                                                                                                                                                                                                                                                                                                                                                                                                                                                                                                                                                                                                                                                                                                                                                                                                                                                                                                                                                                                                                                                                                                                                                                                                                                                                                                                                                                                                                                                                                                                                                                                                                                                                                                                                                                                                                                                                                                                                                                                                                                                                                                                                                                                                                                                                                                                                                                                                                                                                                                                                                                                                                                                                                                                                                                                                                                                                                                                                                                                                                                                                                                                                                                                |\n",
      "|00073dd6d7d085de17eea9ce3ea94b07|AccessBank |[AccessBank, AccessBank, AccessBank, AccessBank, AccessBank, AccessBank]                                                                                                                                                                                                                                                                                                                                                                                                                                                                                                                                                                                                                                                                                                                                                                                                                                                                                                                                                                                                                                                                                                                                                                                                                                                                                                                                                                                                                                                                                                                                                                                                                                                                                                                                                                                                                                                                                                                                                                                                                                                                                                                                                                                                                                                                                                                                                                                                                                                                                                                                                                                                                                                                                                                                                                                                                                                                                                                                                                                                                                                                                                                                                                                                                                                                                                                                                                        |\n",
      "|00073dd6d7d085de17eea9ce3ea94b07|UNIONBANK  |[UNIONBANK, UNIONBANK, UNIONBANK, UNIONBANK, UNIONBANK, UNIONBANK, UNIONBANK, UNIONBANK, UNIONBANK]                                                                                                                                                                                                                                                                                                                                                                                                                                                                                                                                                                                                                                                                                                                                                                                                                                                                                                                                                                                                                                                                                                                                                                                                                                                                                                                                                                                                                                                                                                                                                                                                                                                                                                                                                                                                                                                                                                                                                                                                                                                                                                                                                                                                                                                                                                                                                                                                                                                                                                                                                                                                                                                                                                                                                                                                                                                                                                                                                                                                                                                                                                                                                                                                                                                                                                                                             |\n",
      "|00075a5f1ff0d45a5d43d5e2219dbdab|FCMB       |[FCMB, FCMB, FCMB, FCMB, FCMB]                                                                                                                                                                                                                                                                                                                                                                                                                                                                                                                                                                                                                                                                                                                                                                                                                                                                                                                                                                                                                                                                                                                                                                                                                                                                                                                                                                                                                                                                                                                                                                                                                                                                                                                                                                                                                                                                                                                                                                                                                                                                                                                                                                                                                                                                                                                                                                                                                                                                                                                                                                                                                                                                                                                                                                                                                                                                                                                                                                                                                                                                                                                                                                                                                                                                                                                                                                                                                  |\n",
      "|00079bc3ba46c2eff0d21ad5cbc41bb7|FCMB       |[FCMB]                                                                                                                                                                                                                                                                                                                                                                                                                                                                                                                                                                                                                                                                                                                                                                                                                                                                                                                                                                                                                                                                                                                                                                                                                                                                                                                                                                                                                                                                                                                                                                                                                                                                                                                                                                                                                                                                                                                                                                                                                                                                                                                                                                                                                                                                                                                                                                                                                                                                                                                                                                                                                                                                                                                                                                                                                                                                                                                                                                                                                                                                                                                                                                                                                                                                                                                                                                                                                                          |\n",
      "|00079bc3ba46c2eff0d21ad5cbc41bb7|FirstBank  |[FirstBank, FirstBank]                                                                                                                                                                                                                                                                                                                                                                                                                                                                                                                                                                                                                                                                                                                                                                                                                                                                                                                                                                                                                                                                                                                                                                                                                                                                                                                                                                                                                                                                                                                                                                                                                                                                                                                                                                                                                                                                                                                                                                                                                                                                                                                                                                                                                                                                                                                                                                                                                                                                                                                                                                                                                                                                                                                                                                                                                                                                                                                                                                                                                                                                                                                                                                                                                                                                                                                                                                                                                          |\n",
      "|0007e2225038168c4ef68de685a3084a|ZENITHBANK |[ZENITHBANK, ZENITHBANK, ZENITHBANK, ZENITHBANK, ZENITHBANK, ZENITHBANK, ZENITHBANK, ZENITHBANK, ZENITHBANK, ZENITHBANK, ZENITHBANK, ZENITHBANK, ZENITHBANK, ZENITHBANK, ZENITHBANK, ZENITHBANK, ZENITHBANK, ZENITHBANK, ZENITHBANK, ZENITHBANK, ZENITHBANK, ZENITHBANK, ZENITHBANK, ZENITHBANK, ZENITHBANK, ZENITHBANK, ZENITHBANK, ZENITHBANK, ZENITHBANK, ZENITHBANK, ZENITHBANK, ZENITHBANK, ZENITHBANK, ZENITHBANK, ZENITHBANK, ZENITHBANK, ZENITHBANK, ZENITHBANK, ZENITHBANK, ZENITHBANK, ZENITHBANK, ZENITHBANK, ZENITHBANK, ZENITHBANK, ZENITHBANK, ZENITHBANK, ZENITHBANK, ZENITHBANK, ZENITHBANK, ZENITHBANK, ZENITHBANK, ZENITHBANK, ZENITHBANK, ZENITHBANK, ZENITHBANK, ZENITHBANK, ZENITHBANK, ZENITHBANK, ZENITHBANK, ZENITHBANK, ZENITHBANK, ZENITHBANK, ZENITHBANK, ZENITHBANK, ZENITHBANK, ZENITHBANK, ZENITHBANK, ZENITHBANK, ZENITHBANK, ZENITHBANK, ZENITHBANK, ZENITHBANK, ZENITHBANK, ZENITHBANK, ZENITHBANK, ZENITHBANK, ZENITHBANK, ZENITHBANK, ZENITHBANK, ZENITHBANK, ZENITHBANK, ZENITHBANK, ZENITHBANK, ZENITHBANK, ZENITHBANK, ZENITHBANK, ZENITHBANK, ZENITHBANK, ZENITHBANK, ZENITHBANK, ZENITHBANK, ZENITHBANK, ZENITHBANK, ZENITHBANK, ZENITHBANK, ZENITHBANK, ZENITHBANK, ZENITHBANK, ZENITHBANK, ZENITHBANK, ZENITHBANK, ZENITHBANK, ZENITHBANK, ZENITHBANK, ZENITHBANK, ZENITHBANK, ZENITHBANK, ZENITHBANK, ZENITHBANK, ZENITHBANK, ZENITHBANK, ZENITHBANK, ZENITHBANK, ZENITHBANK, ZENITHBANK, ZENITHBANK, ZENITHBANK, ZENITHBANK, ZENITHBANK, ZENITHBANK, ZENITHBANK, ZENITHBANK, ZENITHBANK, ZENITHBANK, ZENITHBANK, ZENITHBANK, ZENITHBANK, ZENITHBANK, ZENITHBANK, ZENITHBANK, ZENITHBANK, ZENITHBANK, ZENITHBANK, ZENITHBANK, ZENITHBANK, ZENITHBANK, ZENITHBANK, ZENITHBANK, ZENITHBANK, ZENITHBANK, ZENITHBANK, ZENITHBANK, ZENITHBANK, ZENITHBANK, ZENITHBANK, ZENITHBANK, ZENITHBANK, ZENITHBANK, ZENITHBANK, ZENITHBANK, ZENITHBANK, ZENITHBANK, ZENITHBANK, ZENITHBANK, ZENITHBANK, ZENITHBANK, ZENITHBANK, ZENITHBANK, ZENITHBANK, ZENITHBANK, ZENITHBANK, ZENITHBANK, ZENITHBANK, ZENITHBANK, ZENITHBANK, ZENITHBANK, ZENITHBANK, ZENITHBANK, ZENITHBANK, ZENITHBANK, ZENITHBANK, ZENITHBANK, ZENITHBANK, ZENITHBANK, ZENITHBANK, ZENITHBANK, ZENITHBANK, ZENITHBANK, ZENITHBANK, ZENITHBANK, ZENITHBANK, ZENITHBANK, ZENITHBANK, ZENITHBANK, ZENITHBANK, ZENITHBANK, ZENITHBANK, ZENITHBANK, ZENITHBANK, ZENITHBANK, ZENITHBANK, ZENITHBANK, ZENITHBANK, ZENITHBANK, ZENITHBANK, ZENITHBANK, ZENITHBANK, ZENITHBANK, ZENITHBANK, ZENITHBANK, ZENITHBANK, ZENITHBANK, ZENITHBANK, ZENITHBANK, ZENITHBANK, ZENITHBANK, ZENITHBANK, ZENITHBANK, ZENITHBANK, ZENITHBANK, ZENITHBANK, ZENITHBANK, ZENITHBANK, ZENITHBANK, ZENITHBANK, ZENITHBANK, ZENITHBANK, ZENITHBANK, ZENITHBANK, ZENITHBANK, ZENITHBANK, ZENITHBANK, ZENITHBANK, ZENITHBANK, ZENITHBANK, ZENITHBANK, ZENITHBANK, ZENITHBANK, ZENITHBANK, ZENITHBANK, ZENITHBANK, ZENITHBANK, ZENITHBANK, ZENITHBANK, ZENITHBANK, ZENITHBANK, ZENITHBANK, ZENITHBANK, ZENITHBANK, ZENITHBANK, ZENITHBANK, ZENITHBANK, ZENITHBANK, ZENITHBANK, ZENITHBANK, ZENITHBANK, ZENITHBANK, ZENITHBANK, ZENITHBANK, ZENITHBANK, ZENITHBANK, ZENITHBANK, ZENITHBANK, ZENITHBANK, ZENITHBANK, ZENITHBANK, ZENITHBANK, ZENITHBANK, ZENITHBANK, ZENITHBANK, ZENITHBANK, ZENITHBANK, ZENITHBANK, ZENITHBANK, ZENITHBANK, ZENITHBANK, ZENITHBANK, ZENITHBANK, ZENITHBANK, ZENITHBANK, ZENITHBANK, ZENITHBANK, ZENITHBANK, ZENITHBANK, ZENITHBANK, ZENITHBANK]|\n",
      "|000b25c8e43c43ae9f6254dbc8526092|FidelitySMS|[FidelitySMS, FidelitySMS, FidelitySMS, FidelitySMS, FidelitySMS, FidelitySMS, FidelitySMS, FidelitySMS, FidelitySMS, FidelitySMS, FidelitySMS, FidelitySMS, FidelitySMS, FidelitySMS, FidelitySMS, FidelitySMS, FidelitySMS, FidelitySMS, FidelitySMS, FidelitySMS, FidelitySMS, FidelitySMS, FidelitySMS, FidelitySMS, FidelitySMS, FidelitySMS, FidelitySMS, FidelitySMS, FidelitySMS, FidelitySMS, FidelitySMS, FidelitySMS, FidelitySMS]                                                                                                                                                                                                                                                                                                                                                                                                                                                                                                                                                                                                                                                                                                                                                                                                                                                                                                                                                                                                                                                                                                                                                                                                                                                                                                                                                                                                                                                                                                                                                                                                                                                                                                                                                                                                                                                                                                                                                                                                                                                                                                                                                                                                                                                                                                                                                                                                                                                                                                                                                                                                                                                                                                                                                                                                                                                                                                                                                                                                   |\n",
      "|000b25c8e43c43ae9f6254dbc8526092|FirstBank  |[FirstBank, FirstBank, FirstBank, FirstBank, FirstBank, FirstBank, FirstBank, FirstBank, FirstBank, FirstBank, FirstBank, FirstBank, FirstBank, FirstBank, FirstBank, FirstBank, FirstBank, FirstBank, FirstBank, FirstBank, FirstBank, FirstBank, FirstBank, FirstBank, FirstBank, FirstBank, FirstBank, FirstBank, FirstBank, FirstBank, FirstBank, FirstBank, FirstBank, FirstBank, FirstBank, FirstBank, FirstBank, FirstBank, FirstBank, FirstBank, FirstBank, FirstBank, FirstBank, FirstBank]                                                                                                                                                                                                                                                                                                                                                                                                                                                                                                                                                                                                                                                                                                                                                                                                                                                                                                                                                                                                                                                                                                                                                                                                                                                                                                                                                                                                                                                                                                                                                                                                                                                                                                                                                                                                                                                                                                                                                                                                                                                                                                                                                                                                                                                                                                                                                                                                                                                                                                                                                                                                                                                                                                                                                                                                                                                                                                                                            |\n",
      "|000bf4d6620212d2052f88df22e0cc8b|FirstBank  |[FirstBank, FirstBank, FirstBank, FirstBank, FirstBank, FirstBank, FirstBank, FirstBank, FirstBank, FirstBank, FirstBank, FirstBank, FirstBank, FirstBank, FirstBank, FirstBank, FirstBank, FirstBank, FirstBank, FirstBank, FirstBank, FirstBank, FirstBank, FirstBank, FirstBank, FirstBank, FirstBank, FirstBank, FirstBank, FirstBank, FirstBank, FirstBank, FirstBank, FirstBank, FirstBank, FirstBank, FirstBank, FirstBank, FirstBank, FirstBank, FirstBank, FirstBank, FirstBank, FirstBank, FirstBank, FirstBank, FirstBank, FirstBank, FirstBank, FirstBank, FirstBank, FirstBank, FirstBank, FirstBank, FirstBank, FirstBank, FirstBank, FirstBank, FirstBank, FirstBank, FirstBank, FirstBank, FirstBank, FirstBank, FirstBank, FirstBank, FirstBank, FirstBank]                                                                                                                                                                                                                                                                                                                                                                                                                                                                                                                                                                                                                                                                                                                                                                                                                                                                                                                                                                                                                                                                                                                                                                                                                                                                                                                                                                                                                                                                                                                                                                                                                                                                                                                                                                                                                                                                                                                                                                                                                                                                                                                                                                                                                                                                                                                                                                                                                                                                                                                                                                                                                                                                    |\n",
      "|000e1613b6910878e1bd2efe33c19857|ECOBANK    |[ECOBANK, ECOBANK, ECOBANK, ECOBANK]                                                                                                                                                                                                                                                                                                                                                                                                                                                                                                                                                                                                                                                                                                                                                                                                                                                                                                                                                                                                                                                                                                                                                                                                                                                                                                                                                                                                                                                                                                                                                                                                                                                                                                                                                                                                                                                                                                                                                                                                                                                                                                                                                                                                                                                                                                                                                                                                                                                                                                                                                                                                                                                                                                                                                                                                                                                                                                                                                                                                                                                                                                                                                                                                                                                                                                                                                                                                            |\n",
      "|000ff6d209d98927668395ce4623eab9|AccessBank |[AccessBank]                                                                                                                                                                                                                                                                                                                                                                                                                                                                                                                                                                                                                                                                                                                                                                                                                                                                                                                                                                                                                                                                                                                                                                                                                                                                                                                                                                                                                                                                                                                                                                                                                                                                                                                                                                                                                                                                                                                                                                                                                                                                                                                                                                                                                                                                                                                                                                                                                                                                                                                                                                                                                                                                                                                                                                                                                                                                                                                                                                                                                                                                                                                                                                                                                                                                                                                                                                                                                                    |\n",
      "|00104e18fd9384aeb5bc61d645198d8d|FirstBank  |[FirstBank]                                                                                                                                                                                                                                                                                                                                                                                                                                                                                                                                                                                                                                                                                                                                                                                                                                                                                                                                                                                                                                                                                                                                                                                                                                                                                                                                                                                                                                                                                                                                                                                                                                                                                                                                                                                                                                                                                                                                                                                                                                                                                                                                                                                                                                                                                                                                                                                                                                                                                                                                                                                                                                                                                                                                                                                                                                                                                                                                                                                                                                                                                                                                                                                                                                                                                                                                                                                                                                     |\n",
      "+--------------------------------+-----------+------------------------------------------------------------------------------------------------------------------------------------------------------------------------------------------------------------------------------------------------------------------------------------------------------------------------------------------------------------------------------------------------------------------------------------------------------------------------------------------------------------------------------------------------------------------------------------------------------------------------------------------------------------------------------------------------------------------------------------------------------------------------------------------------------------------------------------------------------------------------------------------------------------------------------------------------------------------------------------------------------------------------------------------------------------------------------------------------------------------------------------------------------------------------------------------------------------------------------------------------------------------------------------------------------------------------------------------------------------------------------------------------------------------------------------------------------------------------------------------------------------------------------------------------------------------------------------------------------------------------------------------------------------------------------------------------------------------------------------------------------------------------------------------------------------------------------------------------------------------------------------------------------------------------------------------------------------------------------------------------------------------------------------------------------------------------------------------------------------------------------------------------------------------------------------------------------------------------------------------------------------------------------------------------------------------------------------------------------------------------------------------------------------------------------------------------------------------------------------------------------------------------------------------------------------------------------------------------------------------------------------------------------------------------------------------------------------------------------------------------------------------------------------------------------------------------------------------------------------------------------------------------------------------------------------------------------------------------------------------------------------------------------------------------------------------------------------------------------------------------------------------------------------------------------------------------------------------------------------------------------------------------------------------------------------------------------------------------------------------------------------------------------------------------------------------------+\n",
      "only showing top 20 rows\n",
      "\n"
     ]
    },
    {
     "name": "stderr",
     "output_type": "stream",
     "text": [
      "                                                                                \r"
     ]
    }
   ],
   "source": [
    "array_df.show(truncate=False)"
   ]
  },
  {
   "cell_type": "code",
   "execution_count": 27,
   "id": "13511b1c",
   "metadata": {},
   "outputs": [
    {
     "name": "stderr",
     "output_type": "stream",
     "text": [
      "[Stage 143:>                                                        (0 + 1) / 1]]\r"
     ]
    },
    {
     "name": "stdout",
     "output_type": "stream",
     "text": [
      "+--------------------+-------------------+---------------+-------------------+\n",
      "|              msisdn|           date_new|closing_balance|       closing_date|\n",
      "+--------------------+-------------------+---------------+-------------------+\n",
      "|000014f8fb1703fb0...|2022-04-11 21:43:07|         246074|2022-04-11 21:43:07|\n",
      "|000014f8fb1703fb0...|2022-04-15 12:09:56|         313674|2022-04-15 12:09:56|\n",
      "|000014f8fb1703fb0...|2022-04-05 08:38:31|         200250|2022-04-05 08:38:31|\n",
      "|000014f8fb1703fb0...|2022-04-14 20:08:50|         315924|2022-04-14 20:08:50|\n",
      "|000014f8fb1703fb0...|2022-04-04 14:39:33|         201960|2022-04-04 14:39:33|\n",
      "|000014f8fb1703fb0...|2022-04-15 14:21:33|         310274|2022-04-15 14:21:33|\n",
      "|000014f8fb1703fb0...|2022-04-07 12:28:14|         190150|2022-04-07 12:28:14|\n",
      "|000014f8fb1703fb0...|2022-04-15 08:33:18|         315674|2022-04-15 08:33:18|\n",
      "|000014f8fb1703fb0...|2022-04-02 00:44:47|         127021|2022-04-02 00:44:47|\n",
      "|000014f8fb1703fb0...|2022-04-11 11:01:04|         175424|2022-04-11 11:01:04|\n",
      "|000014f8fb1703fb0...|2022-04-10 17:29:06|         181150|2022-04-10 17:29:06|\n",
      "|000014f8fb1703fb0...|2022-04-13 20:47:53|            128|2022-04-13 20:47:53|\n",
      "|000014f8fb1703fb0...|2022-04-12 14:07:20|            128|2022-04-12 14:07:20|\n",
      "|00002838cae0ffea3...|2022-04-04 17:30:15|          95761|2022-04-04 17:30:15|\n",
      "|00002838cae0ffea3...|2022-04-13 09:51:50|          64640|2022-04-13 09:51:50|\n",
      "|00002838cae0ffea3...|2022-04-01 07:57:36|         159009|2022-04-01 07:57:36|\n",
      "|00002838cae0ffea3...|2022-04-06 14:09:02|          39097|2022-04-06 14:09:02|\n",
      "|00002838cae0ffea3...|2022-04-02 10:11:59|         108782|2022-04-02 10:11:59|\n",
      "|00002838cae0ffea3...|2022-04-12 15:15:04|          86890|2022-04-12 15:15:04|\n",
      "|00002838cae0ffea3...|2022-04-14 09:13:31|          54440|2022-04-14 09:13:31|\n",
      "+--------------------+-------------------+---------------+-------------------+\n",
      "only showing top 20 rows\n",
      "\n"
     ]
    },
    {
     "name": "stderr",
     "output_type": "stream",
     "text": [
      "                                                                                \r"
     ]
    }
   ],
   "source": [
    "closing_bal.show()"
   ]
  },
  {
   "cell_type": "code",
   "execution_count": 42,
   "id": "47b8a6ca",
   "metadata": {},
   "outputs": [
    {
     "name": "stderr",
     "output_type": "stream",
     "text": [
      "[Stage 364:>                                                        (0 + 1) / 1]\r"
     ]
    },
    {
     "name": "stdout",
     "output_type": "stream",
     "text": [
      "+--------------------------------+-----------+---------+\n",
      "|msisdn                          |bank_name  |num_banks|\n",
      "+--------------------------------+-----------+---------+\n",
      "|4534b787ee8a480c23ab2ffb4da1fdde|AccessBank |1        |\n",
      "|a40869afee2c535151ab92b79fda5dea|AccessBank |1        |\n",
      "|4084600b3f6675843e9148ac0ec5e5f8|UNIONBANK  |1        |\n",
      "|381ef63c71de47fe40f7ea82e84f580f|FCMB       |1        |\n",
      "|df862001db5bb1e3c8e366e4dc04cda0|FirstBank  |1        |\n",
      "|4a741fd641bb8f15f56dc8740571d1c2|FirstBank  |1        |\n",
      "|da2f739d91245dfd6cef756e1dce2d45|ZENITHBANK |1        |\n",
      "|2b3c8addd06a6ab6a213d0c182d448f6|ZENITHBANK |1        |\n",
      "|84c92ff040e6c1fa79f203fdef5c714d|AccessBank |1        |\n",
      "|6e3c41772f52ac05f6aee5a521cc2800|FirstBank  |1        |\n",
      "|25e10a7773ffce1b6fdd150bb7be6243|FCMB       |1        |\n",
      "|b5389a93bc7973669aa2a7e75fa5b1eb|ZENITHBANK |1        |\n",
      "|b09d8a020c255a7dd53e2bab62e93152|FirstBank  |1        |\n",
      "|d565d4d6d2ca745d39bf5174f70cda8d|ZENITHBANK |1        |\n",
      "|06f1082f06e77149f6610d53d94b852e|StanbicIBTC|1        |\n",
      "|c5a4e03687f953a5166b401971cdea30|AccessBank |1        |\n",
      "|b4da6e9dd1deda28e7e696b1e7be1cf7|FidelitySMS|1        |\n",
      "|4a863116f22a29e0d0c601fd20438932|FirstBank  |1        |\n",
      "|4a0ac95a464be7631a1a2869da820054|ECOBANK    |1        |\n",
      "|31b8089fc59dadabb8664f97e560ac62|FirstBank  |1        |\n",
      "+--------------------------------+-----------+---------+\n",
      "only showing top 20 rows\n",
      "\n"
     ]
    },
    {
     "name": "stderr",
     "output_type": "stream",
     "text": [
      "                                                                                \r"
     ]
    }
   ],
   "source": [
    "num_banks.show(truncate=False)"
   ]
  },
  {
   "cell_type": "code",
   "execution_count": null,
   "id": "6a4d61db",
   "metadata": {},
   "outputs": [],
   "source": [
    " "
   ]
  }
 ],
 "metadata": {
  "kernelspec": {
   "display_name": "Custom (custom_python)",
   "language": "python",
   "name": "custom_python"
  },
  "language_info": {
   "codemirror_mode": {
    "name": "ipython",
    "version": 3
   },
   "file_extension": ".py",
   "mimetype": "text/x-python",
   "name": "python",
   "nbconvert_exporter": "python",
   "pygments_lexer": "ipython3",
   "version": "3.7.12"
  }
 },
 "nbformat": 4,
 "nbformat_minor": 5
}
